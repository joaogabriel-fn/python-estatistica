{
 "cells": [
  {
   "cell_type": "markdown",
   "metadata": {},
   "source": [
    "Temos o seguinte conjunto de informações sobre as variáveis X e Y:\n",
    "\n",
    "$\\sigma_{XY}$ = 2.178.803,59\n",
    "\n",
    "$\\sigma²_{X}$ = 7.328.865,85\n",
    "\n",
    "$\\sigma²_{Y}$ = 667.839,78\n",
    "\n",
    "\n",
    "Assinale a alternativa abaixo que apresenta o valor do coeficiente de correlação de Pearson para as variáveis X e Y."
   ]
  },
  {
   "cell_type": "code",
   "execution_count": 1,
   "metadata": {},
   "outputs": [
    {
     "data": {
      "text/plain": [
       "0.984835179852382"
      ]
     },
     "execution_count": 1,
     "metadata": {},
     "output_type": "execute_result"
    }
   ],
   "source": [
    "import numpy as np\n",
    "\n",
    "sigma_xy = 2178803.59\n",
    "sigma_x = np.sqrt(7328865.85)\n",
    "sigma_y = np.sqrt(667839.78)\n",
    "\n",
    "r_xy = sigma_xy / (sigma_x * sigma_y)\n",
    "r_xy"
   ]
  },
  {
   "cell_type": "markdown",
   "metadata": {},
   "source": [
    "Considere o seguinte conjunto de dados:\n",
    "\n",
    "|UF|\tY|\tX|\n",
    "|-|-|-|\n",
    "|Rondônia|\t670|\t1,59|\n",
    "|Acre|\t220|\t0,56|\n",
    "|Amazonas|\t1202|\t2,68|\n",
    "|Roraima|\t188|\t0,47|\n",
    "|Pará|\t1869|\t5,2|\n",
    "|Amapá|\t248|\t0,58|\n",
    "|Tocantins|\t477|\t1,32|\n",
    "|Maranhão|\t1294|\t3,88|\n",
    "|Piauí|\t816|\t2,11|\n",
    "|Ceará|\t2671|\t5,53|\n",
    "|Rio Grande do Norte|\t1403|\t2,6|\n",
    "|Paraíba|\t1586|\t2,94|\n",
    "|Pernambuco|\t3468|\t6,62|\n",
    "|Alagoas|\t973|\t1,91|\n",
    "|Sergipe|\t701|\t1,48|\n",
    "|Bahia|\t5310|\t10,64|\n",
    "|Minas Gerais|\t10950|\t22,39|\n",
    "|Espírito Santo|\t2008|\t4,2|\n",
    "|Rio de Janeiro|\t9574|\t21,9|\n",
    "|São Paulo|\t28863|\t59,66|\n",
    "|Paraná|\t6466|\t14,22|\n",
    "|Santa Catarina|\t4274|\t9,57|\n",
    "|Rio Grande do Sul|\t6432|\t14,67|\n",
    "|Mato Grosso do Sul|\t1326|\t3,28|\n",
    "|Mato Grosso\t|1423|\t3,49|\n",
    "|Goiás|\t3211|\t6,94|\n",
    "|Distrito Federal|\t2140|\t6,25|\n",
    "\n",
    "Onde temos o número de domicílios que possuem computador (Y) e a renda total recebida por pessoas de 10 anos ou mais (X), em cada um dos estados brasileiros.\n",
    "\n",
    "Acredita-se que a posse de computadores tenha uma relação linear com a renda das famílias e para comprovar isso, podemos estimar uma regressão linear com os dados acima e avaliar os resultados obtidos.\n",
    "\n",
    "Neste problema, precisamos, inicialmente, obter as estimativas dos parâmetros de regressão.\n",
    "\n",
    "Informações extras:\n",
    "\n",
    "O valor da renda está dividido por 1.000.000, isto é, se um estado tem uma renda total de R$ 4,2, significa que ele tem uma renda total de R$ 4.200.000.\n",
    "\n",
    "Utilize o ferramental do statsmodels para obter os parâmetros.\n",
    "\n"
   ]
  },
  {
   "cell_type": "code",
   "execution_count": 2,
   "metadata": {},
   "outputs": [],
   "source": [
    "import pandas as pd\n",
    "import statsmodels.api as sm\n",
    "\n",
    "dataset = {\n",
    "    'Y': [670, 220, 1202, 188, 1869, 248, 477, 1294, 816, 2671, 1403, 1586, 3468, 973, 701, 5310, 10950, 2008, 9574, 28863, 6466, 4274, 6432, 1326, 1423, 3211, 2140], \n",
    "    'X': [1.59, 0.56, 2.68, 0.47, 5.2, 0.58, 1.32, 3.88, 2.11, 5.53, 2.6, 2.94, 6.62, 1.91, 1.48, 10.64, 22.39, 4.2, 21.9, 59.66, 14.22, 9.57, 14.67, 3.28, 3.49, 6.94, 6.25]\n",
    "}\n",
    "\n",
    "dataset = pd.DataFrame(dataset)\n",
    "\n",
    "Y = dataset['Y']\n",
    "X = sm.add_constant(dataset['X'])"
   ]
  },
  {
   "cell_type": "code",
   "execution_count": 8,
   "metadata": {},
   "outputs": [
    {
     "name": "stdout",
     "output_type": "stream",
     "text": [
      "beta_1: -168.32115590461154 | beta_2: 481.39039694214773\n"
     ]
    }
   ],
   "source": [
    "regressao = sm.OLS(Y, X, missing='drop').fit()\n",
    "regressao.params\n",
    "\n",
    "beta_1 = regressao.params[0]\n",
    "beta_2 = regressao.params[1]\n",
    "\n",
    "print(f'beta_1: {beta_1} | beta_2: {beta_2}')"
   ]
  },
  {
   "cell_type": "markdown",
   "metadata": {},
   "source": [
    "Considerando os dados do problema anterior, onde se acredita que a posse de computadores tenha uma relação linear com a renda das famílias, após estimarmos o modelo (problema anterior), suponha que seja criado um estado e que este apresente uma renda total de R$ 2.345.678."
   ]
  },
  {
   "cell_type": "code",
   "execution_count": 10,
   "metadata": {},
   "outputs": [
    {
     "data": {
      "text/plain": [
       "960.8657076138518"
      ]
     },
     "execution_count": 10,
     "metadata": {},
     "output_type": "execute_result"
    }
   ],
   "source": [
    "valor_a_prever = 2345678 / 1000000\n",
    "\n",
    "regressao.predict([1, valor_a_prever])[0]"
   ]
  },
  {
   "cell_type": "markdown",
   "metadata": {},
   "source": [
    "Considerando os dados do problema proposto em exercícios anteriores, onde se acredita que a posse de computadores tenha uma relação linear com a renda das famílias. Assinale a alternativa que apresenta o valor do R² obtido de nossa regressão linear."
   ]
  },
  {
   "cell_type": "code",
   "execution_count": 13,
   "metadata": {},
   "outputs": [
    {
     "data": {
      "text/plain": [
       "0.997"
      ]
     },
     "execution_count": 13,
     "metadata": {},
     "output_type": "execute_result"
    }
   ],
   "source": [
    "round(regressao.rsquared, 3)"
   ]
  },
  {
   "cell_type": "markdown",
   "metadata": {},
   "source": [
    "Ainda sobre os dados do problema proposto em exercícios anteriores, onde se acredita que a posse de computadores tenha uma relação linear com a renda das famílias. Assinale as alternativas que apresentam os códigos corretos para obtermos o valor do erro quadrático médio (EQM).\n",
    "\n"
   ]
  },
  {
   "cell_type": "code",
   "execution_count": 14,
   "metadata": {},
   "outputs": [
    {
     "data": {
      "text/plain": [
       "110564.3756996659"
      ]
     },
     "execution_count": 14,
     "metadata": {},
     "output_type": "execute_result"
    }
   ],
   "source": [
    "regressao.mse_resid"
   ]
  },
  {
   "cell_type": "code",
   "execution_count": 17,
   "metadata": {},
   "outputs": [
    {
     "data": {
      "text/plain": [
       "110564.3756996659"
      ]
     },
     "execution_count": 17,
     "metadata": {},
     "output_type": "execute_result"
    }
   ],
   "source": [
    "regressao.ssr / regressao.df_resid"
   ]
  },
  {
   "cell_type": "markdown",
   "metadata": {},
   "source": []
  }
 ],
 "metadata": {
  "kernelspec": {
   "display_name": "Python 3",
   "language": "python",
   "name": "python3"
  },
  "language_info": {
   "codemirror_mode": {
    "name": "ipython",
    "version": 3
   },
   "file_extension": ".py",
   "mimetype": "text/x-python",
   "name": "python",
   "nbconvert_exporter": "python",
   "pygments_lexer": "ipython3",
   "version": "3.10.12"
  },
  "orig_nbformat": 4
 },
 "nbformat": 4,
 "nbformat_minor": 2
}
