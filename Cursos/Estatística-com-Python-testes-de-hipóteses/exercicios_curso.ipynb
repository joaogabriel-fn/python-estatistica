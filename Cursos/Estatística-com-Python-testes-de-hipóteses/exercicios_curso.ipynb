{
 "cells": [
  {
   "cell_type": "markdown",
   "metadata": {},
   "source": [
    "Um fabricante de farinha afirma que a quantidade média de farinha nas embalagens de seu principal produto é de 500 g. Um teste de pesagem em 30 embalagens amostradas ao acaso mostrou um peso médio igual à 485 g. Estudos anteriores afirmam que a distribuição dos pesos segue uma distribuição normal e que o desvio padrão populacional é igual a 20 g. Considerando um nível de significância igual a 5%, responda as seguintes questões:\n",
    "\n",
    "1) Qual a hipótese nula a ser testada?\n",
    "\n",
    "2) Qual o valor da estatística de teste?\n",
    "\n",
    "3) Qual a conclusão do teste?"
   ]
  },
  {
   "cell_type": "code",
   "execution_count": 2,
   "metadata": {},
   "outputs": [
    {
     "data": {
      "text/plain": [
       "-4.107919181288746"
      ]
     },
     "execution_count": 2,
     "metadata": {},
     "output_type": "execute_result"
    }
   ],
   "source": [
    "import scipy.stats as stats\n",
    "import numpy as np\n",
    "\n",
    "media = 500\n",
    "n = 30\n",
    "media_amostral = 485\n",
    "desv_padrao_populacional = 20\n",
    "significancia = 0.05\n",
    "confianca = 1 - significancia\n",
    "z_alpha = stats.norm.ppf(0.5+(confianca/2))\n",
    "z = (media_amostral - media) / (desv_padrao_populacional / np.sqrt(n))\n",
    "z"
   ]
  },
  {
   "cell_type": "markdown",
   "metadata": {},
   "source": [
    "Considere novamente os dados do exercício anterior. Um fabricante de farinha afirma que a quantidade média de farinha nas embalagens de seu principal produto é de 500 g. Um teste de pesagem em 30 embalagens amostradas ao acaso mostrou um peso médio igual à 485 g. Estudos anteriores afirmam que a distribuição dos pesos segue uma normal e que o desvio padrão populacional é igual a 20 g. Com um nível de significância igual a 5%, teste a hipótese nula de que a média do processo é igual a 500 g e marque a alternativa que indica o p-valor do teste aplicado (considere somente 5 casas decimais)."
   ]
  },
  {
   "cell_type": "code",
   "execution_count": 3,
   "metadata": {},
   "outputs": [
    {
     "data": {
      "text/plain": [
       "4e-05"
      ]
     },
     "execution_count": 3,
     "metadata": {},
     "output_type": "execute_result"
    }
   ],
   "source": [
    "p_valor = 2 * stats.norm.sf(abs(z))\n",
    "round(p_valor, 5)"
   ]
  },
  {
   "cell_type": "markdown",
   "metadata": {},
   "source": [
    "Um fabricante de cosméticos afirma que a adição de um novo composto químico em sua linha de shampoos consegue promover em mais de 2 centímetros o crescimento dos fios de cabelo em um período de 60 dias. Duas amostras de pessoas foram selecionadas e testadas, uma utilizando o shampoo novo (com o composto) e a outra com o shampoo antigo (sem o composto).\n",
    "\n",
    "Os resultados (crescimento dos fios de cabelo em centímetros) podem ser verificados na tabela abaixo\n",
    "\n",
    "Assumindo um nível de confiança de 95% e considerando que as populações se distribuem como uma normal, podemos acreditar na afirmação do fabricante do shampoo? Assinale a alternativa que apresenta a estatística de teste e a decisão correta do teste.\n",
    "\n",
    "Um pouco mais de teoria: como se trata de um problema um pouco diferente do apresentado em nossa aula, vamos esclarecer alguns pontos para ajudar na solução:\n",
    "\n",
    "1) Em testes entre duas amostras, quando realizamos a escolha da distribuição amostral adequada (passo 2) e perguntamos se n ≥ 30, temos que considerar que n = n1 + n2, onde n1 é o tamanho da primeira amostra e n2 o tamanho da segunda;\n",
    "\n",
    "2) Quando n1 + n2 ≥ 30, utilizamos z (normal), e quando n1 + n2 < 30, σ não for conhecido e as populações forem normalmente distribuídas, utilizamos t (t-Student);\n",
    "\n",
    "3) Quando utilizamos a tabela t de Student, em teste de duas amostras, os graus de liberdade são obtidos da seguinte forma: n1 + n2 - 2;\n",
    "\n",
    "4) Quando o problema nos pergunta se podemos acreditar na afirmação do fabricante, está nos indicando o que devemos testar, ou seja, a nossa hipótese alternativa (H1), que no caso é:\n",
    "\n",
    "\n",
    "\n",
    "Onde:\n",
    "\n",
    "μ1 = Crescimento médio dos cabelos com o uso do novo shampoo\n",
    "μ2 = Crescimento médio dos cabelos com o uso do shampoo antigo.\n",
    "5) Em nosso próximo vídeo, utilizaremos o ztest_ind() para solucionar problemas como este. Um teste similar ao ztest_ind(), que utiliza a distribuição t de Student, é o ttest_ind(). Aqui, você será redirecionado para a documentação. Observe que o ttest_ind() retorna a estatística de teste, o p-valor e também os graus de liberdade."
   ]
  },
  {
   "cell_type": "code",
   "execution_count": 22,
   "metadata": {},
   "outputs": [
    {
     "name": "stdout",
     "output_type": "stream",
     "text": [
      "t = 2.6646\n",
      "p-valor = 0.0079\n",
      "graus de liberdade = 18.0\n",
      "Rejeitar H0\n"
     ]
    }
   ],
   "source": [
    "import pandas as pd\n",
    "from statsmodels.stats.weightstats import DescrStatsW\n",
    "\n",
    "shampoo_Novo = pd.Series([3.4, 4.9, 2.8, 5.5, 3.7, 2.5, 4.3, 4.6, 3.7, 3.4])\n",
    "shampoo_Antigo = pd.Series([0.3, 1.2, 1.2, 1.7, 1.1, 0.6, 1.2, 1.5, 0.5, 0.7])\n",
    "\n",
    "significancia = 0.05\n",
    "\n",
    "test_A = DescrStatsW(shampoo_Novo)\n",
    "test_B = DescrStatsW(shampoo_Antigo)\n",
    "test = test_A.get_compare(test_B)\n",
    "\n",
    "t, p_valor, df = test.ttest_ind(alternative='larger', value=2)\n",
    "\n",
    "print('t =', round(t, 4))\n",
    "print('p-valor =', round(p_valor, 4))\n",
    "print('graus de liberdade =', df)\n",
    "\n",
    "if(p_valor <= significancia):\n",
    "    print('Rejeitar H0')\n",
    "else:\n",
    "    print('Aceitar H0')\n"
   ]
  },
  {
   "cell_type": "markdown",
   "metadata": {},
   "source": [
    "A realização de um teste não paramétrico Qui-quadrado, com apenas 5 graus de liberdade, obteve-se a estatística de teste no valor de 7,45.\n",
    "\n",
    "Qual seria o p-valor para este teste?"
   ]
  },
  {
   "cell_type": "code",
   "execution_count": 26,
   "metadata": {},
   "outputs": [
    {
     "data": {
      "text/plain": [
       "0.1893"
      ]
     },
     "execution_count": 26,
     "metadata": {},
     "output_type": "execute_result"
    }
   ],
   "source": [
    "from scipy.stats import chi\n",
    "\n",
    "chi_2 = 7.45\n",
    "raiz_chi_2 = np.sqrt(chi_2)\n",
    "\n",
    "p_valor = chi.sf(raiz_chi_2, df=5)\n",
    "round(p_valor, 4)"
   ]
  },
  {
   "cell_type": "markdown",
   "metadata": {},
   "source": [
    "Desconfiado da eficiência dos cursos e materiais de estudo online da Alura, um professor resolveu realizar um teste com um grupo de 14 alunos de sua classe. Para isto, ele submeteu estes alunos a duas etapas distintas e logo depois de cada etapa, aplicou uma avaliação. Na etapa inicial, foram oferecidas aulas normais, sem a utilização do material de apoio da Alura. Na segunda etapa, foram também oferecidas aulas normais, mas com a utilização do material de apoio da Alura. As notas obtidas pelos alunos estão na tabela abaixo:\n",
    "\n",
    "\n",
    "| Aluno |\tSem Alura |\tCom Alura|\n",
    "|-|-|-|\n",
    "|Aluno A |\t7 |\t10|\n",
    "|Aluno B |\t8 |\t10|\n",
    "|Aluno C |\t6 |\t9|\n",
    "|Aluno D |\t6 |\t9|\n",
    "|Aluno E |\t10 |\t9|\n",
    "|Aluno F |\t4 |\t7|\n",
    "|Aluno G |\t2 |\t5|\n",
    "|Aluno H |\t5 |\t8|\n",
    "|Aluno I |\t9 |\t10|\n",
    "|Aluno J |\t2 |\t6|\n",
    "|Aluno K |\t4 |\t3|\n",
    "|Aluno L |\t9 |\t7|\n",
    "|Aluno M |\t1 |\t4|\n",
    "|Aluno N |\t10 |\t8|\n",
    "\n",
    "Assinale a alternativa que apresenta o resultado do teste, não paramétrico de Wilcoxon, aplicado pelo professor (estatística de teste T e decisão do teste). Considere um nível de significância de 10%."
   ]
  },
  {
   "cell_type": "code",
   "execution_count": 4,
   "metadata": {},
   "outputs": [
    {
     "name": "stdout",
     "output_type": "stream",
     "text": [
      "14.0 0.013427734375\n",
      "Rejeita-se H0\n"
     ]
    }
   ],
   "source": [
    "import pandas as pd\n",
    "from scipy.stats import wilcoxon\n",
    "\n",
    "cursos = {\n",
    "  'Sem Alura' : [7, 8, 6, 6, 10, 4, 2, 5, 9, 2, 4, 9, 1, 10],\n",
    "  'Com Alura' : [10, 10, 9, 9, 9, 7, 5, 8, 10, 6, 3, 7, 4, 8]\n",
    "}\n",
    "cursos = pd.DataFrame(cursos)\n",
    "\n",
    "significancia = 0.1\n",
    "confianca = 1 - significancia\n",
    "\n",
    "T, p_valor = wilcoxon(cursos['Sem Alura'], cursos['Com Alura'])\n",
    "print(T, p_valor)\n",
    "\n",
    "if p_valor <= significancia:\n",
    "  print('Rejeita-se H0')\n",
    "else:\n",
    "  print('Aceitar H0')"
   ]
  },
  {
   "cell_type": "markdown",
   "metadata": {},
   "source": [
    "Um professor acredita que alunos que praticam exercícios físicos têm uma performance média escolar superior àquela obtida por alunos que não praticam. Para provar sua teoria, selecionou duas amostras aleatórias, uma com 9 alunos que não praticam exercícios físicos e outra com 10 alunos que cultivam o hábito de se exercitar. A tabela abaixo mostra as notas dos alunos no último ano:\n",
    "\n",
    "\n",
    "|Sem exercícios |\tCom exercícios |\n",
    "|-|-|\n",
    "|7|8|\n",
    "|6|7|\n",
    "|7|6|\n",
    "|8|6|\n",
    "|6|8|\n",
    "|8|6|\n",
    "|6|10|\n",
    "|9|6|\n",
    "|5|7|\n",
    "||8|\n",
    "\n",
    "Teste a hipótese da média das notas dos alunos que praticam exercícios ser maior que a média das notas dos alunos que não praticam. Assinale a alternativa que apresenta o resultado do teste (estatística de teste u e decisão do teste). Considere um nível de significância de 10%."
   ]
  },
  {
   "cell_type": "code",
   "execution_count": 8,
   "metadata": {},
   "outputs": [
    {
     "name": "stdout",
     "output_type": "stream",
     "text": [
      "50.0\n",
      "0.35118642828565927\n",
      "Aceitar H0\n"
     ]
    }
   ],
   "source": [
    "from scipy.stats import mannwhitneyu\n",
    "\n",
    "resultados = {\n",
    "  'Sem Exercícios' : [7, 6, 7, 8, 6, 8, 6, 9, 5],\n",
    "  'Com Exercícios' : [8, 7, 6, 6, 8, 6, 10, 6, 7, 8]\n",
    "}\n",
    "\n",
    "significancia = 0.1\n",
    "\n",
    "u, p_valor = mannwhitneyu(resultados['Com Exercícios'], resultados['Sem Exercícios'], alternative='greater')\n",
    "print(u)\n",
    "print(p_valor)\n",
    "\n",
    "if p_valor <= significancia:\n",
    "  print('Rejeitar H0')\n",
    "else:\n",
    "  print('Aceitar H0')"
   ]
  },
  {
   "cell_type": "markdown",
   "metadata": {},
   "source": []
  }
 ],
 "metadata": {
  "kernelspec": {
   "display_name": "Python 3",
   "language": "python",
   "name": "python3"
  },
  "language_info": {
   "codemirror_mode": {
    "name": "ipython",
    "version": 3
   },
   "file_extension": ".py",
   "mimetype": "text/x-python",
   "name": "python",
   "nbconvert_exporter": "python",
   "pygments_lexer": "ipython3",
   "version": "3.11.4"
  },
  "orig_nbformat": 4
 },
 "nbformat": 4,
 "nbformat_minor": 2
}
