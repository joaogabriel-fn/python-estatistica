{
 "cells": [
  {
   "cell_type": "markdown",
   "metadata": {
    "colab_type": "text",
    "id": "WvMflodMjQKe"
   },
   "source": [
    "***\n",
    "# <font color=green size=10>CURSO DE ESTATÍSTICA - PARTE 1</font>\n",
    "***"
   ]
  },
  {
   "cell_type": "markdown",
   "metadata": {
    "colab_type": "text",
    "id": "cVgsZ_E3jQKg"
   },
   "source": [
    "# <font color=green>1 CONHECENDO OS DADOS</font>\n",
    "***"
   ]
  },
  {
   "cell_type": "markdown",
   "metadata": {
    "colab_type": "text",
    "id": "TDjqYYNojQKh"
   },
   "source": [
    "## <font color=green>1.1 Dataset do projeto</font>\n",
    "***"
   ]
  },
  {
   "cell_type": "markdown",
   "metadata": {
    "colab_type": "text",
    "id": "iN1gIbaKjQKh"
   },
   "source": [
    "### Pesquisa Nacional por Amostra de Domicílios - 2015\n",
    "\n",
    "A <b>Pesquisa Nacional por Amostra de Domicílios - PNAD</b> investiga anualmente, de forma permanente, características gerais da população, de educação, trabalho, rendimento e habitação e outras, com periodicidade variável, de acordo com as necessidades de informação para o país, como as características sobre migração, fecundidade, nupcialidade, saúde, segurança alimentar, entre outros temas. O levantamento dessas estatísticas constitui, ao longo dos 49 anos de realização da pesquisa, um importante instrumento para formulação, validação e avaliação de políticas orientadas para o desenvolvimento socioeconômico e a melhoria das condições de vida no Brasil."
   ]
  },
  {
   "cell_type": "markdown",
   "metadata": {
    "colab_type": "text",
    "id": "U6V7br1RjQKi"
   },
   "source": [
    "### Fonte dos Dados\n",
    "\n",
    "https://ww2.ibge.gov.br/home/estatistica/populacao/trabalhoerendimento/pnad2015/microdados.shtm"
   ]
  },
  {
   "cell_type": "markdown",
   "metadata": {
    "colab_type": "text",
    "id": "r0Fe_qnzjQKj"
   },
   "source": [
    "### Variáveis utilizadas\n",
    "\n",
    "> ### Renda\n",
    "> ***\n",
    "\n",
    "Rendimento mensal do trabalho principal para pessoas de 10 anos ou mais de idade.\n",
    "\n",
    "> ### Idade\n",
    "> ***\n",
    "\n",
    "Idade do morador na data de referência em anos.\n",
    "\n",
    "> ### Altura (elaboração própria)\n",
    "> ***\n",
    "\n",
    "Altura do morador em metros.\n",
    "\n",
    "> ### UF\n",
    "> ***\n",
    "\n",
    "|Código|Descrição|\n",
    "|---|---|\n",
    "|11|Rondônia|\n",
    "|12|Acre|\n",
    "|13|Amazonas|\n",
    "|14|Roraima|\n",
    "|15|Pará|\n",
    "|16|Amapá|\n",
    "|17|Tocantins|\n",
    "|21|Maranhão|\n",
    "|22|Piauí|\n",
    "|23|Ceará|\n",
    "|24|Rio Grande do Norte|\n",
    "|25|Paraíba|\n",
    "|26|Pernambuco|\n",
    "|27|Alagoas|\n",
    "|28|Sergipe|\n",
    "|29|Bahia|\n",
    "|31|Minas Gerais|\n",
    "|32|Espírito Santo|\n",
    "|33|Rio de Janeiro|\n",
    "|35|São Paulo|\n",
    "|41|Paraná|\n",
    "|42|Santa Catarina|\n",
    "|43|Rio Grande do Sul|\n",
    "|50|Mato Grosso do Sul|\n",
    "|51|Mato Grosso|\n",
    "|52|Goiás|\n",
    "|53|Distrito Federal|\n",
    "\n",
    "> ### Sexo\t\n",
    "> ***\n",
    "\n",
    "|Código|Descrição|\n",
    "|---|---|\n",
    "|0|Masculino|\n",
    "|1|Feminino|\n",
    "\n",
    "> ### Anos de Estudo\n",
    "> ***\n",
    "\n",
    "|Código|Descrição|\n",
    "|---|---|\n",
    "|1|Sem instrução e menos de 1 ano|\n",
    "|2|1 ano|\n",
    "|3|2 anos|\n",
    "|4|3 anos|\n",
    "|5|4 anos|\n",
    "|6|5 anos|\n",
    "|7|6 anos|\n",
    "|8|7 anos|\n",
    "|9|8 anos|\n",
    "|10|9 anos|\n",
    "|11|10 anos|\n",
    "|12|11 anos|\n",
    "|13|12 anos|\n",
    "|14|13 anos|\n",
    "|15|14 anos|\n",
    "|16|15 anos ou mais|\n",
    "|17|Não determinados| \n",
    "||Não aplicável|\n",
    "\n",
    "> ### Cor\n",
    "> ***\n",
    "\n",
    "|Código|Descrição|\n",
    "|---|---|\n",
    "|0|Indígena|\n",
    "|2|Branca|\n",
    "|4|Preta|\n",
    "|6|Amarela|\n",
    "|8|Parda|\n",
    "|9|Sem declaração|"
   ]
  },
  {
   "cell_type": "markdown",
   "metadata": {
    "colab_type": "text",
    "id": "OK1IQH5cX7Gb"
   },
   "source": [
    "#### <font color='red'>Observação</font>\n",
    "***\n",
    "> Os seguintes tratamentos foram realizados nos dados originais:\n",
    "> 1. Foram eliminados os registros onde a <b>Renda</b> era inválida (999 999 999 999);\n",
    "> 2. Foram eliminados os registros onde a <b>Renda</b> era missing;\n",
    "> 3. Foram considerados somente os registros das <b>Pessoas de Referência</b> de cada domicílio (responsável pelo domicílio)."
   ]
  },
  {
   "cell_type": "markdown",
   "metadata": {
    "colab_type": "text",
    "id": "8Rw70V6ojQKk"
   },
   "source": [
    "### Importando pandas e lendo o dataset do projeto\n",
    "\n",
    "https://pandas.pydata.org/"
   ]
  },
  {
   "cell_type": "code",
   "execution_count": 1,
   "metadata": {
    "colab": {},
    "colab_type": "code",
    "id": "8QgOpE-wjQKl"
   },
   "outputs": [],
   "source": [
    "import pandas as pd"
   ]
  },
  {
   "cell_type": "code",
   "execution_count": 2,
   "metadata": {
    "colab": {},
    "colab_type": "code",
    "id": "ufRZ7TLwjQKo"
   },
   "outputs": [
    {
     "data": {
      "text/plain": [
       "pandas.core.frame.DataFrame"
      ]
     },
     "execution_count": 2,
     "metadata": {},
     "output_type": "execute_result"
    }
   ],
   "source": [
    "dados = pd.read_csv('dados.csv')\n",
    "type(dados)"
   ]
  },
  {
   "cell_type": "code",
   "execution_count": 3,
   "metadata": {
    "colab": {
     "base_uri": "https://localhost:8080/",
     "height": 204
    },
    "colab_type": "code",
    "id": "GsC_WhLFjQKq",
    "outputId": "5eef662c-f904-4e46-ee7a-159616d06554",
    "scrolled": true
   },
   "outputs": [
    {
     "data": {
      "text/html": [
       "<div>\n",
       "<style scoped>\n",
       "    .dataframe tbody tr th:only-of-type {\n",
       "        vertical-align: middle;\n",
       "    }\n",
       "\n",
       "    .dataframe tbody tr th {\n",
       "        vertical-align: top;\n",
       "    }\n",
       "\n",
       "    .dataframe thead th {\n",
       "        text-align: right;\n",
       "    }\n",
       "</style>\n",
       "<table border=\"1\" class=\"dataframe\">\n",
       "  <thead>\n",
       "    <tr style=\"text-align: right;\">\n",
       "      <th></th>\n",
       "      <th>UF</th>\n",
       "      <th>Sexo</th>\n",
       "      <th>Idade</th>\n",
       "      <th>Cor</th>\n",
       "      <th>Anos de Estudo</th>\n",
       "      <th>Renda</th>\n",
       "      <th>Altura</th>\n",
       "    </tr>\n",
       "  </thead>\n",
       "  <tbody>\n",
       "    <tr>\n",
       "      <th>0</th>\n",
       "      <td>11</td>\n",
       "      <td>0</td>\n",
       "      <td>23</td>\n",
       "      <td>8</td>\n",
       "      <td>12</td>\n",
       "      <td>800</td>\n",
       "      <td>1.603808</td>\n",
       "    </tr>\n",
       "    <tr>\n",
       "      <th>1</th>\n",
       "      <td>11</td>\n",
       "      <td>1</td>\n",
       "      <td>23</td>\n",
       "      <td>2</td>\n",
       "      <td>12</td>\n",
       "      <td>1150</td>\n",
       "      <td>1.739790</td>\n",
       "    </tr>\n",
       "    <tr>\n",
       "      <th>2</th>\n",
       "      <td>11</td>\n",
       "      <td>1</td>\n",
       "      <td>35</td>\n",
       "      <td>8</td>\n",
       "      <td>15</td>\n",
       "      <td>880</td>\n",
       "      <td>1.760444</td>\n",
       "    </tr>\n",
       "    <tr>\n",
       "      <th>3</th>\n",
       "      <td>11</td>\n",
       "      <td>0</td>\n",
       "      <td>46</td>\n",
       "      <td>2</td>\n",
       "      <td>6</td>\n",
       "      <td>3500</td>\n",
       "      <td>1.783158</td>\n",
       "    </tr>\n",
       "    <tr>\n",
       "      <th>4</th>\n",
       "      <td>11</td>\n",
       "      <td>1</td>\n",
       "      <td>47</td>\n",
       "      <td>8</td>\n",
       "      <td>9</td>\n",
       "      <td>150</td>\n",
       "      <td>1.690631</td>\n",
       "    </tr>\n",
       "  </tbody>\n",
       "</table>\n",
       "</div>"
      ],
      "text/plain": [
       "   UF  Sexo  Idade  Cor  Anos de Estudo  Renda    Altura\n",
       "0  11     0     23    8              12    800  1.603808\n",
       "1  11     1     23    2              12   1150  1.739790\n",
       "2  11     1     35    8              15    880  1.760444\n",
       "3  11     0     46    2               6   3500  1.783158\n",
       "4  11     1     47    8               9    150  1.690631"
      ]
     },
     "execution_count": 3,
     "metadata": {},
     "output_type": "execute_result"
    }
   ],
   "source": [
    "dados.head()"
   ]
  },
  {
   "cell_type": "markdown",
   "metadata": {
    "colab_type": "text",
    "id": "E3Mx0tVqjQKs"
   },
   "source": [
    "## <font color=green>1.2 Tipos de dados</font>\n",
    "***"
   ]
  },
  {
   "cell_type": "markdown",
   "metadata": {
    "colab_type": "text",
    "id": "oB4TCBFojQKt"
   },
   "source": [
    "### Variáveis qualitativas ordinais\n",
    "\n",
    "► Variáveis que podem ser ordenadas ou hierarquizardas"
   ]
  },
  {
   "cell_type": "code",
   "execution_count": 4,
   "metadata": {
    "colab": {
     "base_uri": "https://localhost:8080/",
     "height": 35
    },
    "colab_type": "code",
    "id": "NtQZNGNbjQKt",
    "outputId": "f75cd222-87e0-487c-b3cd-641c701dd6b1"
   },
   "outputs": [
    {
     "data": {
      "text/plain": [
       "[1, 2, 3, 4, 5, 6, 7, 8, 9, 10, 11, 12, 13, 14, 15, 16, 17]"
      ]
     },
     "execution_count": 4,
     "metadata": {},
     "output_type": "execute_result"
    }
   ],
   "source": [
    "sorted(dados['Anos de Estudo'].unique())"
   ]
  },
  {
   "cell_type": "markdown",
   "metadata": {
    "colab_type": "text",
    "id": "i2mCIMyojQKv"
   },
   "source": [
    "### Variáveis qualitativas nominais\n",
    "\n",
    "► Variáveis que não podem ser ordenadas ou hierarquizardas"
   ]
  },
  {
   "cell_type": "code",
   "execution_count": 5,
   "metadata": {
    "colab": {
     "base_uri": "https://localhost:8080/",
     "height": 503
    },
    "colab_type": "code",
    "id": "NODtY5IxjQKw",
    "outputId": "9b36ef0c-fa30-47cd-a568-6334b2330fd7",
    "scrolled": true
   },
   "outputs": [
    {
     "data": {
      "text/plain": [
       "[11,\n",
       " 12,\n",
       " 13,\n",
       " 14,\n",
       " 15,\n",
       " 16,\n",
       " 17,\n",
       " 21,\n",
       " 22,\n",
       " 23,\n",
       " 24,\n",
       " 25,\n",
       " 26,\n",
       " 27,\n",
       " 28,\n",
       " 29,\n",
       " 31,\n",
       " 32,\n",
       " 33,\n",
       " 35,\n",
       " 41,\n",
       " 42,\n",
       " 43,\n",
       " 50,\n",
       " 51,\n",
       " 52,\n",
       " 53]"
      ]
     },
     "execution_count": 5,
     "metadata": {},
     "output_type": "execute_result"
    }
   ],
   "source": [
    "sorted(dados['UF'].unique())"
   ]
  },
  {
   "cell_type": "code",
   "execution_count": 6,
   "metadata": {
    "colab": {
     "base_uri": "https://localhost:8080/",
     "height": 35
    },
    "colab_type": "code",
    "id": "NURfft2QjQKy",
    "outputId": "8dd13533-8135-4234-e3ff-44f72b8fa535"
   },
   "outputs": [
    {
     "data": {
      "text/plain": [
       "[0, 1]"
      ]
     },
     "execution_count": 6,
     "metadata": {},
     "output_type": "execute_result"
    }
   ],
   "source": [
    "sorted(dados['Sexo'].unique())"
   ]
  },
  {
   "cell_type": "code",
   "execution_count": 7,
   "metadata": {
    "colab": {
     "base_uri": "https://localhost:8080/",
     "height": 35
    },
    "colab_type": "code",
    "id": "6VwGyqxMjQK1",
    "outputId": "6f0a238e-e94a-4691-eff8-239e64db9913"
   },
   "outputs": [
    {
     "data": {
      "text/plain": [
       "[0, 2, 4, 6, 8]"
      ]
     },
     "execution_count": 7,
     "metadata": {},
     "output_type": "execute_result"
    }
   ],
   "source": [
    "sorted(dados['Cor'].unique())"
   ]
  },
  {
   "cell_type": "markdown",
   "metadata": {
    "colab_type": "text",
    "id": "FQhi81LsjQK5"
   },
   "source": [
    "### Variáveis quantitativas discretas\n",
    "\n",
    "► Variáveis que representam uma contagem onde os valores possíveis formam um conjunto finito ou enumerável."
   ]
  },
  {
   "cell_type": "code",
   "execution_count": 8,
   "metadata": {
    "colab": {
     "base_uri": "https://localhost:8080/",
     "height": 35
    },
    "colab_type": "code",
    "id": "sr4JXeZkjQK5",
    "outputId": "eea4cb2d-c154-4ad1-b03f-7f5cdf06a285"
   },
   "outputs": [
    {
     "name": "stdout",
     "output_type": "stream",
     "text": [
      "De 13 até 99 anos.\n"
     ]
    }
   ],
   "source": [
    "print(f'De {dados.Idade.min()} até {dados.Idade.max()} anos.')"
   ]
  },
  {
   "cell_type": "markdown",
   "metadata": {
    "colab_type": "text",
    "id": "7mMXLTukjQK-"
   },
   "source": [
    "#### <font color='red'>Observação</font>\n",
    "***\n",
    "> A variável idade pode ser classificada de três formas distintas:\n",
    "> 1. <b>QUANTITATIVA DISCRETA</b> - quando representa anos completos (números inteiros);\n",
    "> 2. <b>QUANTITATIVA CONTÍNUA</b> - quando representa a idade exata, sendo representado por frações de anos; e\n",
    "> 3. <b>QUALITATIVA ORDINAL</b> - quando representa faixas de idade."
   ]
  },
  {
   "cell_type": "markdown",
   "metadata": {
    "colab_type": "text",
    "id": "J0L2OkaQjQK7"
   },
   "source": [
    "### Variáveis quantitativas contínuas\n",
    "\n",
    "► Variáveis que representam uma contagem ou mensuração que assumem valores em uma escala contínua (números reais)."
   ]
  },
  {
   "cell_type": "code",
   "execution_count": 9,
   "metadata": {
    "colab": {
     "base_uri": "https://localhost:8080/",
     "height": 35
    },
    "colab_type": "code",
    "id": "jOW-bGyRjQK8",
    "outputId": "f3667c96-a570-4f95-818e-4bcc9cbe9403"
   },
   "outputs": [
    {
     "name": "stdout",
     "output_type": "stream",
     "text": [
      "De 1.34 até 2.03 metros.\n"
     ]
    }
   ],
   "source": [
    "print(f'De {dados.Altura.min():.2f} até {dados.Altura.max():.2f} metros.')"
   ]
  },
  {
   "cell_type": "markdown",
   "metadata": {
    "colab_type": "text",
    "id": "d_LW5gMIjQK_"
   },
   "source": [
    "### Classificação de uma variável\n",
    "<img src='https://caelum-online-public.s3.amazonaws.com/1177-estatistica-parte1/01/img001.png' width='70%'>"
   ]
  },
  {
   "cell_type": "markdown",
   "metadata": {
    "colab_type": "text",
    "id": "PNIg_4VEjQK_"
   },
   "source": [
    "# <font color=green>2 DISTRIBUIÇÃO DE FREQUÊNCIAS</font>\n",
    "***\n",
    "\n",
    "O primeiro passo em um trabalho de análise é o conhecimento do comportamento das variáveis envolvidas no estudo. Utilizando técnicas estatísticas como as análises das <b>DISTRIBUIÇÕES DE FREQUÊNCIAS</b> e <b>HISTOGRAMAS</b> podemos avaliar melhor a forma como os fenômenos em estudo se distribuem."
   ]
  },
  {
   "cell_type": "markdown",
   "metadata": {
    "colab_type": "text",
    "id": "JhpyjkEFjQLA"
   },
   "source": [
    "## <font color=green>2.1 Distribuição de frequências para variáveis qualitativas</font>\n",
    "***"
   ]
  },
  {
   "cell_type": "markdown",
   "metadata": {
    "colab_type": "text",
    "id": "SsN3ikjqjQLB"
   },
   "source": [
    "### Método 1"
   ]
  },
  {
   "cell_type": "markdown",
   "metadata": {
    "colab_type": "text",
    "id": "dj_v0M44X7G3"
   },
   "source": [
    "https://pandas.pydata.org/pandas-docs/version/0.22/generated/pandas.Series.value_counts.html"
   ]
  },
  {
   "cell_type": "code",
   "execution_count": 10,
   "metadata": {
    "colab": {
     "base_uri": "https://localhost:8080/",
     "height": 71
    },
    "colab_type": "code",
    "id": "cA4gUboZjQLB",
    "outputId": "960bc58d-62e2-4ca2-bb6d-df888813cb34"
   },
   "outputs": [
    {
     "data": {
      "text/plain": [
       "Sexo\n",
       "0    53250\n",
       "1    23590\n",
       "Name: count, dtype: int64"
      ]
     },
     "execution_count": 10,
     "metadata": {},
     "output_type": "execute_result"
    }
   ],
   "source": [
    "dados['Sexo'].value_counts()"
   ]
  },
  {
   "cell_type": "code",
   "execution_count": 11,
   "metadata": {
    "colab": {
     "base_uri": "https://localhost:8080/",
     "height": 71
    },
    "colab_type": "code",
    "id": "iy4-ijknjQLD",
    "outputId": "609cb9bf-45b6-4d6a-ab57-f7eee496a41b"
   },
   "outputs": [
    {
     "data": {
      "text/plain": [
       "Sexo\n",
       "0    69.299844\n",
       "1    30.700156\n",
       "Name: proportion, dtype: float64"
      ]
     },
     "execution_count": 11,
     "metadata": {},
     "output_type": "execute_result"
    }
   ],
   "source": [
    "dados['Sexo'].value_counts(normalize=True) * 100"
   ]
  },
  {
   "cell_type": "code",
   "execution_count": 12,
   "metadata": {
    "colab": {},
    "colab_type": "code",
    "id": "qfkiLcFijQLG"
   },
   "outputs": [],
   "source": [
    "freq = dados['Sexo'].value_counts()"
   ]
  },
  {
   "cell_type": "code",
   "execution_count": 13,
   "metadata": {
    "colab": {},
    "colab_type": "code",
    "id": "t4uFMt6fjQLI"
   },
   "outputs": [],
   "source": [
    "percent_freq = dados['Sexo'].value_counts(normalize=True) * 100"
   ]
  },
  {
   "cell_type": "code",
   "execution_count": 14,
   "metadata": {
    "colab": {},
    "colab_type": "code",
    "id": "zUGfju86jQLM"
   },
   "outputs": [
    {
     "data": {
      "text/html": [
       "<div>\n",
       "<style scoped>\n",
       "    .dataframe tbody tr th:only-of-type {\n",
       "        vertical-align: middle;\n",
       "    }\n",
       "\n",
       "    .dataframe tbody tr th {\n",
       "        vertical-align: top;\n",
       "    }\n",
       "\n",
       "    .dataframe thead th {\n",
       "        text-align: right;\n",
       "    }\n",
       "</style>\n",
       "<table border=\"1\" class=\"dataframe\">\n",
       "  <thead>\n",
       "    <tr style=\"text-align: right;\">\n",
       "      <th></th>\n",
       "      <th>Frequência</th>\n",
       "      <th>Porcentagem (%)</th>\n",
       "    </tr>\n",
       "    <tr>\n",
       "      <th>Sexo</th>\n",
       "      <th></th>\n",
       "      <th></th>\n",
       "    </tr>\n",
       "  </thead>\n",
       "  <tbody>\n",
       "    <tr>\n",
       "      <th>0</th>\n",
       "      <td>53250</td>\n",
       "      <td>69.299844</td>\n",
       "    </tr>\n",
       "    <tr>\n",
       "      <th>1</th>\n",
       "      <td>23590</td>\n",
       "      <td>30.700156</td>\n",
       "    </tr>\n",
       "  </tbody>\n",
       "</table>\n",
       "</div>"
      ],
      "text/plain": [
       "      Frequência  Porcentagem (%)\n",
       "Sexo                             \n",
       "0          53250        69.299844\n",
       "1          23590        30.700156"
      ]
     },
     "execution_count": 14,
     "metadata": {},
     "output_type": "execute_result"
    }
   ],
   "source": [
    "dist_freq_qualitativas = pd.DataFrame({\n",
    "    'Frequência': freq,\n",
    "    'Porcentagem (%)': percent_freq\n",
    "})\n",
    "\n",
    "dist_freq_qualitativas"
   ]
  },
  {
   "cell_type": "code",
   "execution_count": 15,
   "metadata": {
    "colab": {
     "base_uri": "https://localhost:8080/",
     "height": 111
    },
    "colab_type": "code",
    "id": "kPOYfijijQLO",
    "outputId": "4af843fe-2772-4fc7-a04c-6e50d2384b58"
   },
   "outputs": [
    {
     "data": {
      "text/html": [
       "<div>\n",
       "<style scoped>\n",
       "    .dataframe tbody tr th:only-of-type {\n",
       "        vertical-align: middle;\n",
       "    }\n",
       "\n",
       "    .dataframe tbody tr th {\n",
       "        vertical-align: top;\n",
       "    }\n",
       "\n",
       "    .dataframe thead th {\n",
       "        text-align: right;\n",
       "    }\n",
       "</style>\n",
       "<table border=\"1\" class=\"dataframe\">\n",
       "  <thead>\n",
       "    <tr style=\"text-align: right;\">\n",
       "      <th></th>\n",
       "      <th>Frequência</th>\n",
       "      <th>Porcentagem (%)</th>\n",
       "    </tr>\n",
       "    <tr>\n",
       "      <th>Sexo</th>\n",
       "      <th></th>\n",
       "      <th></th>\n",
       "    </tr>\n",
       "  </thead>\n",
       "  <tbody>\n",
       "    <tr>\n",
       "      <th>Masculino</th>\n",
       "      <td>53250</td>\n",
       "      <td>69.299844</td>\n",
       "    </tr>\n",
       "    <tr>\n",
       "      <th>Feminino</th>\n",
       "      <td>23590</td>\n",
       "      <td>30.700156</td>\n",
       "    </tr>\n",
       "  </tbody>\n",
       "</table>\n",
       "</div>"
      ],
      "text/plain": [
       "           Frequência  Porcentagem (%)\n",
       "Sexo                                  \n",
       "Masculino       53250        69.299844\n",
       "Feminino        23590        30.700156"
      ]
     },
     "execution_count": 15,
     "metadata": {},
     "output_type": "execute_result"
    }
   ],
   "source": [
    "dist_freq_qualitativas.rename(index={0: 'Masculino', 1: 'Feminino'}, inplace=True)\n",
    "\n",
    "dist_freq_qualitativas"
   ]
  },
  {
   "cell_type": "markdown",
   "metadata": {
    "colab_type": "text",
    "id": "D82ocp_djQLR"
   },
   "source": [
    "### Método 2"
   ]
  },
  {
   "cell_type": "markdown",
   "metadata": {
    "colab_type": "text",
    "id": "rLbfeA_UX7HF"
   },
   "source": [
    "https://pandas.pydata.org/pandas-docs/version/0.22/generated/pandas.crosstab.html"
   ]
  },
  {
   "cell_type": "code",
   "execution_count": 16,
   "metadata": {
    "colab": {},
    "colab_type": "code",
    "id": "d8XMZiEfjQLS"
   },
   "outputs": [],
   "source": [
    "sexo = {\n",
    "    0: 'Masculino',\n",
    "    1: 'Feminino'\n",
    "}\n",
    "\n",
    "cor = {\n",
    "    0: 'Indígena',\n",
    "    2: 'Branca',\n",
    "    4: 'Preta',\n",
    "    6: 'Amarela',\n",
    "    8: 'Parda',\n",
    "    9: 'Sem declaração'\n",
    "}"
   ]
  },
  {
   "cell_type": "code",
   "execution_count": 17,
   "metadata": {
    "colab": {
     "base_uri": "https://localhost:8080/",
     "height": 142
    },
    "colab_type": "code",
    "id": "YLCyOKYcjQLU",
    "outputId": "7edebb2b-4a25-4b77-f78a-f47adbc8b3d9"
   },
   "outputs": [
    {
     "data": {
      "text/html": [
       "<div>\n",
       "<style scoped>\n",
       "    .dataframe tbody tr th:only-of-type {\n",
       "        vertical-align: middle;\n",
       "    }\n",
       "\n",
       "    .dataframe tbody tr th {\n",
       "        vertical-align: top;\n",
       "    }\n",
       "\n",
       "    .dataframe thead th {\n",
       "        text-align: right;\n",
       "    }\n",
       "</style>\n",
       "<table border=\"1\" class=\"dataframe\">\n",
       "  <thead>\n",
       "    <tr style=\"text-align: right;\">\n",
       "      <th>Cor</th>\n",
       "      <th>Indígena</th>\n",
       "      <th>Branca</th>\n",
       "      <th>Preta</th>\n",
       "      <th>Amarela</th>\n",
       "      <th>Parda</th>\n",
       "    </tr>\n",
       "    <tr>\n",
       "      <th>Sexo</th>\n",
       "      <th></th>\n",
       "      <th></th>\n",
       "      <th></th>\n",
       "      <th></th>\n",
       "      <th></th>\n",
       "    </tr>\n",
       "  </thead>\n",
       "  <tbody>\n",
       "    <tr>\n",
       "      <th>Masculino</th>\n",
       "      <td>256</td>\n",
       "      <td>22194</td>\n",
       "      <td>5502</td>\n",
       "      <td>235</td>\n",
       "      <td>25063</td>\n",
       "    </tr>\n",
       "    <tr>\n",
       "      <th>Feminino</th>\n",
       "      <td>101</td>\n",
       "      <td>9621</td>\n",
       "      <td>2889</td>\n",
       "      <td>117</td>\n",
       "      <td>10862</td>\n",
       "    </tr>\n",
       "  </tbody>\n",
       "</table>\n",
       "</div>"
      ],
      "text/plain": [
       "Cor        Indígena  Branca  Preta  Amarela  Parda\n",
       "Sexo                                              \n",
       "Masculino       256   22194   5502      235  25063\n",
       "Feminino        101    9621   2889      117  10862"
      ]
     },
     "execution_count": 17,
     "metadata": {},
     "output_type": "execute_result"
    }
   ],
   "source": [
    "freq = pd.crosstab(dados['Sexo'],\n",
    "                   dados['Cor'])\n",
    "freq.rename(index=sexo, inplace=True)\n",
    "freq.rename(columns=cor, inplace=True)\n",
    "freq"
   ]
  },
  {
   "cell_type": "code",
   "execution_count": 18,
   "metadata": {
    "colab": {
     "base_uri": "https://localhost:8080/",
     "height": 142
    },
    "colab_type": "code",
    "id": "nrDtcf5gjQLV",
    "outputId": "6138e377-ca89-4606-8f22-084729b89637"
   },
   "outputs": [
    {
     "data": {
      "text/html": [
       "<div>\n",
       "<style scoped>\n",
       "    .dataframe tbody tr th:only-of-type {\n",
       "        vertical-align: middle;\n",
       "    }\n",
       "\n",
       "    .dataframe tbody tr th {\n",
       "        vertical-align: top;\n",
       "    }\n",
       "\n",
       "    .dataframe thead th {\n",
       "        text-align: right;\n",
       "    }\n",
       "</style>\n",
       "<table border=\"1\" class=\"dataframe\">\n",
       "  <thead>\n",
       "    <tr style=\"text-align: right;\">\n",
       "      <th>Cor</th>\n",
       "      <th>Indígena</th>\n",
       "      <th>Branca</th>\n",
       "      <th>Preta</th>\n",
       "      <th>Amarela</th>\n",
       "      <th>Parda</th>\n",
       "    </tr>\n",
       "    <tr>\n",
       "      <th>Sexo</th>\n",
       "      <th></th>\n",
       "      <th></th>\n",
       "      <th></th>\n",
       "      <th></th>\n",
       "      <th></th>\n",
       "    </tr>\n",
       "  </thead>\n",
       "  <tbody>\n",
       "    <tr>\n",
       "      <th>Masculino</th>\n",
       "      <td>0.333160</td>\n",
       "      <td>28.883394</td>\n",
       "      <td>7.160333</td>\n",
       "      <td>0.305830</td>\n",
       "      <td>32.617126</td>\n",
       "    </tr>\n",
       "    <tr>\n",
       "      <th>Feminino</th>\n",
       "      <td>0.131442</td>\n",
       "      <td>12.520822</td>\n",
       "      <td>3.759761</td>\n",
       "      <td>0.152264</td>\n",
       "      <td>14.135867</td>\n",
       "    </tr>\n",
       "  </tbody>\n",
       "</table>\n",
       "</div>"
      ],
      "text/plain": [
       "Cor        Indígena     Branca     Preta   Amarela      Parda\n",
       "Sexo                                                         \n",
       "Masculino  0.333160  28.883394  7.160333  0.305830  32.617126\n",
       "Feminino   0.131442  12.520822  3.759761  0.152264  14.135867"
      ]
     },
     "execution_count": 18,
     "metadata": {},
     "output_type": "execute_result"
    }
   ],
   "source": [
    "freq_percent = pd.crosstab(dados['Sexo'], dados['Cor'], normalize=True)*100\n",
    "freq_percent.rename(index=sexo, inplace=True)\n",
    "freq_percent.rename(columns=cor, inplace=True)\n",
    "freq_percent"
   ]
  },
  {
   "cell_type": "code",
   "execution_count": 19,
   "metadata": {
    "colab": {
     "base_uri": "https://localhost:8080/",
     "height": 142
    },
    "colab_type": "code",
    "id": "_MHwBGcdp6dl",
    "outputId": "d2674b4f-214e-4b08-de79-13e443d41d41"
   },
   "outputs": [
    {
     "data": {
      "text/html": [
       "<div>\n",
       "<style scoped>\n",
       "    .dataframe tbody tr th:only-of-type {\n",
       "        vertical-align: middle;\n",
       "    }\n",
       "\n",
       "    .dataframe tbody tr th {\n",
       "        vertical-align: top;\n",
       "    }\n",
       "\n",
       "    .dataframe thead th {\n",
       "        text-align: right;\n",
       "    }\n",
       "</style>\n",
       "<table border=\"1\" class=\"dataframe\">\n",
       "  <thead>\n",
       "    <tr style=\"text-align: right;\">\n",
       "      <th>Cor</th>\n",
       "      <th>Indígena</th>\n",
       "      <th>Branca</th>\n",
       "      <th>Preta</th>\n",
       "      <th>Amarela</th>\n",
       "      <th>Parda</th>\n",
       "    </tr>\n",
       "    <tr>\n",
       "      <th>Sexo</th>\n",
       "      <th></th>\n",
       "      <th></th>\n",
       "      <th></th>\n",
       "      <th></th>\n",
       "      <th></th>\n",
       "    </tr>\n",
       "  </thead>\n",
       "  <tbody>\n",
       "    <tr>\n",
       "      <th>Masculino</th>\n",
       "      <td>1081.710938</td>\n",
       "      <td>2925.744435</td>\n",
       "      <td>1603.861687</td>\n",
       "      <td>4758.251064</td>\n",
       "      <td>1659.577425</td>\n",
       "    </tr>\n",
       "    <tr>\n",
       "      <th>Feminino</th>\n",
       "      <td>2464.386139</td>\n",
       "      <td>2109.866750</td>\n",
       "      <td>1134.596400</td>\n",
       "      <td>3027.341880</td>\n",
       "      <td>1176.758516</td>\n",
       "    </tr>\n",
       "  </tbody>\n",
       "</table>\n",
       "</div>"
      ],
      "text/plain": [
       "Cor           Indígena       Branca        Preta      Amarela        Parda\n",
       "Sexo                                                                      \n",
       "Masculino  1081.710938  2925.744435  1603.861687  4758.251064  1659.577425\n",
       "Feminino   2464.386139  2109.866750  1134.596400  3027.341880  1176.758516"
      ]
     },
     "execution_count": 19,
     "metadata": {},
     "output_type": "execute_result"
    }
   ],
   "source": [
    "freq = pd.crosstab(dados['Sexo'],\n",
    "                   dados['Cor'], aggfunc='mean', values=dados['Renda'])\n",
    "freq.rename(index=sexo, inplace=True)\n",
    "freq.rename(columns=cor, inplace=True)\n",
    "freq"
   ]
  },
  {
   "cell_type": "markdown",
   "metadata": {
    "colab_type": "text",
    "id": "eaXQUxnXjQLa"
   },
   "source": [
    "## <font color=green>2.2 Distribuição de frequências para variáveis quantitativas (classes personalizadas)</font>\n",
    "***"
   ]
  },
  {
   "cell_type": "markdown",
   "metadata": {
    "colab_type": "text",
    "id": "wxsSD-VVjQLb"
   },
   "source": [
    "### Passo 1 - Especificar os limites de cada classe\n",
    "\n",
    "Utilizar a seguinte classificação:\n",
    "\n",
    "<b>A</b> ► Acima de 20 SM\n",
    "\n",
    "<b>B</b> ► De 10 a 20 SM\n",
    "\n",
    "<b>C</b> ► De 4 a 10 SM\n",
    "\n",
    "<b>D</b> ► De 2 a 4 SM\n",
    "\n",
    "<b>E</b> ► Até 2 SM\n",
    "\n",
    "onde <b>SM</b> é o valor do salário mínimo na época. Em nosso caso <b>R$ 788,00</b> (2015):\n",
    "\n",
    "<b>A</b> ► Acima de 15.760\n",
    "\n",
    "<b>B</b> ► De 7.880 a 15.760\n",
    "\n",
    "<b>C</b> ► De 3.152 a 7.880\n",
    "\n",
    "<b>D</b> ► De 1.576 a 3.152\n",
    "\n",
    "<b>E</b> ► Até 1.576\n"
   ]
  },
  {
   "cell_type": "code",
   "execution_count": 20,
   "metadata": {
    "colab": {
     "base_uri": "https://localhost:8080/",
     "height": 35
    },
    "colab_type": "code",
    "id": "Z08790GUjQLc",
    "outputId": "4a7bafb3-8440-42ee-fc60-a29080527059"
   },
   "outputs": [
    {
     "data": {
      "text/plain": [
       "0"
      ]
     },
     "execution_count": 20,
     "metadata": {},
     "output_type": "execute_result"
    }
   ],
   "source": [
    "dados['Renda'].min()"
   ]
  },
  {
   "cell_type": "code",
   "execution_count": 21,
   "metadata": {
    "colab": {
     "base_uri": "https://localhost:8080/",
     "height": 35
    },
    "colab_type": "code",
    "id": "5q2V5-0FjQLe",
    "outputId": "4d3c65eb-f1b0-454d-eb93-09c82314e311"
   },
   "outputs": [
    {
     "data": {
      "text/plain": [
       "200000"
      ]
     },
     "execution_count": 21,
     "metadata": {},
     "output_type": "execute_result"
    }
   ],
   "source": [
    "dados['Renda'].max()"
   ]
  },
  {
   "cell_type": "code",
   "execution_count": 22,
   "metadata": {
    "colab": {},
    "colab_type": "code",
    "id": "Qt5F5w2UjQLg"
   },
   "outputs": [],
   "source": [
    "classes = [0, 1576, 3152, 7880, 15760, 200000]"
   ]
  },
  {
   "cell_type": "code",
   "execution_count": 23,
   "metadata": {
    "colab": {},
    "colab_type": "code",
    "id": "DKPIGOLLjQLi"
   },
   "outputs": [],
   "source": [
    "labels = ['E', 'D', 'C', 'B', 'A']"
   ]
  },
  {
   "cell_type": "markdown",
   "metadata": {
    "colab_type": "text",
    "id": "IQhlvrQUjQLk"
   },
   "source": [
    "### Passo 2 - Criar a tabela de frequências"
   ]
  },
  {
   "cell_type": "markdown",
   "metadata": {
    "colab_type": "text",
    "id": "Uy3fH4IxX7Hc"
   },
   "source": [
    "https://pandas.pydata.org/pandas-docs/version/0.22/generated/pandas.cut.html"
   ]
  },
  {
   "cell_type": "code",
   "execution_count": 24,
   "metadata": {
    "colab": {
     "base_uri": "https://localhost:8080/",
     "height": 125
    },
    "colab_type": "code",
    "id": "N-wZ_2UajQLm",
    "outputId": "62245a56-ed43-4344-d2fa-bbad51c61c55"
   },
   "outputs": [
    {
     "data": {
      "text/plain": [
       "Renda\n",
       "E    49755\n",
       "D    16700\n",
       "C     7599\n",
       "B     2178\n",
       "A      608\n",
       "Name: count, dtype: int64"
      ]
     },
     "execution_count": 24,
     "metadata": {},
     "output_type": "execute_result"
    }
   ],
   "source": [
    "frequencia = pd.value_counts(\n",
    "  pd.cut(x=dados['Renda'],\n",
    "     bins=classes,\n",
    "     labels=labels,\n",
    "     include_lowest=True\n",
    "     )\n",
    ")\n",
    "\n",
    "frequencia"
   ]
  },
  {
   "cell_type": "code",
   "execution_count": 30,
   "metadata": {
    "colab": {
     "base_uri": "https://localhost:8080/",
     "height": 125
    },
    "colab_type": "code",
    "id": "WrZ2m2GajQLo",
    "outputId": "363ba010-04c1-4f23-a08a-f5431372fcf4"
   },
   "outputs": [
    {
     "data": {
      "text/plain": [
       "Renda\n",
       "E    64.751432\n",
       "D    21.733472\n",
       "C     9.889381\n",
       "B     2.834461\n",
       "A     0.791255\n",
       "Name: proportion, dtype: float64"
      ]
     },
     "execution_count": 30,
     "metadata": {},
     "output_type": "execute_result"
    }
   ],
   "source": [
    "percentual = pd.value_counts(\n",
    "  pd.cut(x=dados['Renda'],\n",
    "    bins=classes,\n",
    "    labels=labels,\n",
    "    include_lowest=True\n",
    "    ),\n",
    "  normalize=True\n",
    ") * 100\n",
    "\n",
    "percentual"
   ]
  },
  {
   "cell_type": "code",
   "execution_count": 32,
   "metadata": {
    "colab": {
     "base_uri": "https://localhost:8080/",
     "height": 204
    },
    "colab_type": "code",
    "id": "uTMEJXUHjQLs",
    "outputId": "ce17e408-9d56-44b2-fb26-a4037df3af00"
   },
   "outputs": [
    {
     "data": {
      "text/html": [
       "<div>\n",
       "<style scoped>\n",
       "    .dataframe tbody tr th:only-of-type {\n",
       "        vertical-align: middle;\n",
       "    }\n",
       "\n",
       "    .dataframe tbody tr th {\n",
       "        vertical-align: top;\n",
       "    }\n",
       "\n",
       "    .dataframe thead th {\n",
       "        text-align: right;\n",
       "    }\n",
       "</style>\n",
       "<table border=\"1\" class=\"dataframe\">\n",
       "  <thead>\n",
       "    <tr style=\"text-align: right;\">\n",
       "      <th></th>\n",
       "      <th>Frequência</th>\n",
       "      <th>Porcentagem (%)</th>\n",
       "    </tr>\n",
       "    <tr>\n",
       "      <th>Renda</th>\n",
       "      <th></th>\n",
       "      <th></th>\n",
       "    </tr>\n",
       "  </thead>\n",
       "  <tbody>\n",
       "    <tr>\n",
       "      <th>A</th>\n",
       "      <td>608</td>\n",
       "      <td>0.791255</td>\n",
       "    </tr>\n",
       "    <tr>\n",
       "      <th>B</th>\n",
       "      <td>2178</td>\n",
       "      <td>2.834461</td>\n",
       "    </tr>\n",
       "    <tr>\n",
       "      <th>C</th>\n",
       "      <td>7599</td>\n",
       "      <td>9.889381</td>\n",
       "    </tr>\n",
       "    <tr>\n",
       "      <th>D</th>\n",
       "      <td>16700</td>\n",
       "      <td>21.733472</td>\n",
       "    </tr>\n",
       "    <tr>\n",
       "      <th>E</th>\n",
       "      <td>49755</td>\n",
       "      <td>64.751432</td>\n",
       "    </tr>\n",
       "  </tbody>\n",
       "</table>\n",
       "</div>"
      ],
      "text/plain": [
       "       Frequência  Porcentagem (%)\n",
       "Renda                             \n",
       "A             608         0.791255\n",
       "B            2178         2.834461\n",
       "C            7599         9.889381\n",
       "D           16700        21.733472\n",
       "E           49755        64.751432"
      ]
     },
     "execution_count": 32,
     "metadata": {},
     "output_type": "execute_result"
    }
   ],
   "source": [
    "dist_freq_quantitativas = pd.DataFrame(\n",
    "  {\n",
    "    'Frequência': frequencia,\n",
    "    'Porcentagem (%)': percentual\n",
    "  }\n",
    ")\n",
    "\n",
    "dist_freq_quantitativas.sort_index(ascending=False)"
   ]
  },
  {
   "cell_type": "code",
   "execution_count": 33,
   "metadata": {},
   "outputs": [
    {
     "data": {
      "text/html": [
       "<div>\n",
       "<style scoped>\n",
       "    .dataframe tbody tr th:only-of-type {\n",
       "        vertical-align: middle;\n",
       "    }\n",
       "\n",
       "    .dataframe tbody tr th {\n",
       "        vertical-align: top;\n",
       "    }\n",
       "\n",
       "    .dataframe thead th {\n",
       "        text-align: right;\n",
       "    }\n",
       "</style>\n",
       "<table border=\"1\" class=\"dataframe\">\n",
       "  <thead>\n",
       "    <tr style=\"text-align: right;\">\n",
       "      <th>Estaturas</th>\n",
       "      <th>Frequência</th>\n",
       "      <th>Porcentagem (%)</th>\n",
       "    </tr>\n",
       "    <tr>\n",
       "      <th>Altura</th>\n",
       "      <th></th>\n",
       "      <th></th>\n",
       "    </tr>\n",
       "  </thead>\n",
       "  <tbody>\n",
       "    <tr>\n",
       "      <th>1 - Baixa</th>\n",
       "      <td>20529</td>\n",
       "      <td>26.716554</td>\n",
       "    </tr>\n",
       "    <tr>\n",
       "      <th>2 - Média</th>\n",
       "      <td>36162</td>\n",
       "      <td>47.061426</td>\n",
       "    </tr>\n",
       "    <tr>\n",
       "      <th>3 - Alta</th>\n",
       "      <td>20149</td>\n",
       "      <td>26.222020</td>\n",
       "    </tr>\n",
       "  </tbody>\n",
       "</table>\n",
       "</div>"
      ],
      "text/plain": [
       "Estaturas  Frequência  Porcentagem (%)\n",
       "Altura                                \n",
       "1 - Baixa       20529        26.716554\n",
       "2 - Média       36162        47.061426\n",
       "3 - Alta        20149        26.222020"
      ]
     },
     "execution_count": 33,
     "metadata": {},
     "output_type": "execute_result"
    }
   ],
   "source": [
    "classes = [dados.Altura.min(), 1.65, 1.75, dados.Altura.max()]\n",
    "labels = ['1 - Baixa', '2 - Média', '3 - Alta']\n",
    "\n",
    "frequencia = pd.value_counts(\n",
    "    pd.cut(\n",
    "        x = dados.Altura,\n",
    "        bins = classes,\n",
    "        labels = labels,\n",
    "        include_lowest = True\n",
    "    )\n",
    ")\n",
    "\n",
    "percentual = pd.value_counts(\n",
    "    pd.cut(\n",
    "        x = dados.Altura,\n",
    "        bins = classes,\n",
    "        labels = labels,\n",
    "        include_lowest = True\n",
    "    ), normalize = True\n",
    ") * 100\n",
    "\n",
    "dist_freq_altura = pd.DataFrame(\n",
    "    {'Frequência': frequencia, 'Porcentagem (%)': percentual}\n",
    ")\n",
    "\n",
    "dist_freq_altura.rename_axis('Estaturas', axis= 'columns', inplace = True)\n",
    "\n",
    "dist_freq_altura.sort_index(ascending = True, inplace = True)\n",
    "\n",
    "dist_freq_altura"
   ]
  },
  {
   "cell_type": "markdown",
   "metadata": {
    "colab_type": "text",
    "id": "ViJYvvjujQLu"
   },
   "source": [
    "## <font color=green>2.3 Distribuição de frequências para variáveis quantitativas (classes de amplitude fixa)</font>\n",
    "***"
   ]
  },
  {
   "cell_type": "markdown",
   "metadata": {
    "colab_type": "text",
    "id": "02ve2BVojQLv"
   },
   "source": [
    "### Importando bibliotecas\n",
    "\n",
    "http://www.numpy.org/"
   ]
  },
  {
   "cell_type": "code",
   "execution_count": 35,
   "metadata": {
    "colab": {},
    "colab_type": "code",
    "id": "hSIsHKuJjQLw"
   },
   "outputs": [],
   "source": [
    "import numpy as np"
   ]
  },
  {
   "cell_type": "markdown",
   "metadata": {
    "colab_type": "text",
    "id": "s9UGNaMzjQLy"
   },
   "source": [
    "### Passo 1 - Definindo o número de classes"
   ]
  },
  {
   "cell_type": "markdown",
   "metadata": {
    "colab_type": "text",
    "id": "p268tvNHjQLy"
   },
   "source": [
    "#### Regra de Sturges\n",
    "\n",
    "# $$k = 1 + \\frac {10}{3}\\log_{10}n$$"
   ]
  },
  {
   "cell_type": "code",
   "execution_count": 39,
   "metadata": {
    "colab": {
     "base_uri": "https://localhost:8080/",
     "height": 35
    },
    "colab_type": "code",
    "id": "wgLH6gGqjQLz",
    "outputId": "0cac691b-d35f-40a2-e1e7-31cfa0a5698a"
   },
   "outputs": [
    {
     "data": {
      "text/plain": [
       "76840"
      ]
     },
     "execution_count": 39,
     "metadata": {},
     "output_type": "execute_result"
    }
   ],
   "source": [
    "n = dados.shape[0]\n",
    "n"
   ]
  },
  {
   "cell_type": "code",
   "execution_count": 55,
   "metadata": {
    "colab": {},
    "colab_type": "code",
    "id": "uTuVep-8jQL0"
   },
   "outputs": [
    {
     "data": {
      "text/plain": [
       "17.285291187298853"
      ]
     },
     "execution_count": 55,
     "metadata": {},
     "output_type": "execute_result"
    }
   ],
   "source": [
    "k = 1 + (10/3)*np.log10(n)\n",
    "k"
   ]
  },
  {
   "cell_type": "code",
   "execution_count": 56,
   "metadata": {
    "colab": {
     "base_uri": "https://localhost:8080/",
     "height": 35
    },
    "colab_type": "code",
    "id": "988IDFNOjQL2",
    "outputId": "9de2b02d-c804-487c-b95e-3f5386860fd0"
   },
   "outputs": [
    {
     "data": {
      "text/plain": [
       "17"
      ]
     },
     "execution_count": 56,
     "metadata": {},
     "output_type": "execute_result"
    }
   ],
   "source": [
    "k = int(k.round(0))\n",
    "k"
   ]
  },
  {
   "cell_type": "markdown",
   "metadata": {
    "colab_type": "text",
    "id": "5eO-RhaljQL6"
   },
   "source": [
    "### Passo 2 - Criar a tabela de frequências"
   ]
  },
  {
   "cell_type": "code",
   "execution_count": 91,
   "metadata": {
    "colab": {},
    "colab_type": "code",
    "id": "sVVA-jvDjQL7"
   },
   "outputs": [],
   "source": [
    "frequencia = pd.value_counts(\n",
    "  pd.cut(\n",
    "      x=dados['Renda'],\n",
    "      bins=k,\n",
    "      include_lowest=True\n",
    "  ),\n",
    "  sort=False\n",
    ")"
   ]
  },
  {
   "cell_type": "code",
   "execution_count": 92,
   "metadata": {
    "colab": {
     "base_uri": "https://localhost:8080/",
     "height": 341
    },
    "colab_type": "code",
    "id": "-ylxSip1jQL9",
    "outputId": "d362e353-a3c9-4721-efd3-2a8ff7c85ab5"
   },
   "outputs": [],
   "source": [
    "percentual = pd.value_counts(\n",
    "  pd.cut(\n",
    "      x=dados['Renda'],\n",
    "      bins=17,\n",
    "      include_lowest=True\n",
    "  ),\n",
    "  sort=False,\n",
    "  normalize=True\n",
    ") * 100"
   ]
  },
  {
   "cell_type": "code",
   "execution_count": 93,
   "metadata": {
    "colab": {
     "base_uri": "https://localhost:8080/",
     "height": 576
    },
    "colab_type": "code",
    "id": "n9kkJ0WTjQL_",
    "outputId": "994669b3-9a10-424c-adab-6f934f87fd45"
   },
   "outputs": [
    {
     "data": {
      "text/html": [
       "<div>\n",
       "<style scoped>\n",
       "    .dataframe tbody tr th:only-of-type {\n",
       "        vertical-align: middle;\n",
       "    }\n",
       "\n",
       "    .dataframe tbody tr th {\n",
       "        vertical-align: top;\n",
       "    }\n",
       "\n",
       "    .dataframe thead th {\n",
       "        text-align: right;\n",
       "    }\n",
       "</style>\n",
       "<table border=\"1\" class=\"dataframe\">\n",
       "  <thead>\n",
       "    <tr style=\"text-align: right;\">\n",
       "      <th></th>\n",
       "      <th>Frequência</th>\n",
       "      <th>Percentual(%)</th>\n",
       "    </tr>\n",
       "    <tr>\n",
       "      <th>Renda</th>\n",
       "      <th></th>\n",
       "      <th></th>\n",
       "    </tr>\n",
       "  </thead>\n",
       "  <tbody>\n",
       "    <tr>\n",
       "      <th>(-200.001, 11764.706]</th>\n",
       "      <td>75594</td>\n",
       "      <td>98.378449</td>\n",
       "    </tr>\n",
       "    <tr>\n",
       "      <th>(11764.706, 23529.412]</th>\n",
       "      <td>1022</td>\n",
       "      <td>1.330036</td>\n",
       "    </tr>\n",
       "    <tr>\n",
       "      <th>(23529.412, 35294.118]</th>\n",
       "      <td>169</td>\n",
       "      <td>0.219938</td>\n",
       "    </tr>\n",
       "    <tr>\n",
       "      <th>(35294.118, 47058.824]</th>\n",
       "      <td>19</td>\n",
       "      <td>0.024727</td>\n",
       "    </tr>\n",
       "    <tr>\n",
       "      <th>(47058.824, 58823.529]</th>\n",
       "      <td>16</td>\n",
       "      <td>0.020822</td>\n",
       "    </tr>\n",
       "    <tr>\n",
       "      <th>(58823.529, 70588.235]</th>\n",
       "      <td>5</td>\n",
       "      <td>0.006507</td>\n",
       "    </tr>\n",
       "    <tr>\n",
       "      <th>(70588.235, 82352.941]</th>\n",
       "      <td>4</td>\n",
       "      <td>0.005206</td>\n",
       "    </tr>\n",
       "    <tr>\n",
       "      <th>(82352.941, 94117.647]</th>\n",
       "      <td>1</td>\n",
       "      <td>0.001301</td>\n",
       "    </tr>\n",
       "    <tr>\n",
       "      <th>(94117.647, 105882.353]</th>\n",
       "      <td>6</td>\n",
       "      <td>0.007808</td>\n",
       "    </tr>\n",
       "    <tr>\n",
       "      <th>(105882.353, 117647.059]</th>\n",
       "      <td>0</td>\n",
       "      <td>0.000000</td>\n",
       "    </tr>\n",
       "    <tr>\n",
       "      <th>(117647.059, 129411.765]</th>\n",
       "      <td>1</td>\n",
       "      <td>0.001301</td>\n",
       "    </tr>\n",
       "    <tr>\n",
       "      <th>(129411.765, 141176.471]</th>\n",
       "      <td>0</td>\n",
       "      <td>0.000000</td>\n",
       "    </tr>\n",
       "    <tr>\n",
       "      <th>(141176.471, 152941.176]</th>\n",
       "      <td>0</td>\n",
       "      <td>0.000000</td>\n",
       "    </tr>\n",
       "    <tr>\n",
       "      <th>(152941.176, 164705.882]</th>\n",
       "      <td>0</td>\n",
       "      <td>0.000000</td>\n",
       "    </tr>\n",
       "    <tr>\n",
       "      <th>(164705.882, 176470.588]</th>\n",
       "      <td>0</td>\n",
       "      <td>0.000000</td>\n",
       "    </tr>\n",
       "    <tr>\n",
       "      <th>(176470.588, 188235.294]</th>\n",
       "      <td>0</td>\n",
       "      <td>0.000000</td>\n",
       "    </tr>\n",
       "    <tr>\n",
       "      <th>(188235.294, 200000.0]</th>\n",
       "      <td>3</td>\n",
       "      <td>0.003904</td>\n",
       "    </tr>\n",
       "  </tbody>\n",
       "</table>\n",
       "</div>"
      ],
      "text/plain": [
       "                          Frequência  Percentual(%)\n",
       "Renda                                              \n",
       "(-200.001, 11764.706]          75594      98.378449\n",
       "(11764.706, 23529.412]          1022       1.330036\n",
       "(23529.412, 35294.118]           169       0.219938\n",
       "(35294.118, 47058.824]            19       0.024727\n",
       "(47058.824, 58823.529]            16       0.020822\n",
       "(58823.529, 70588.235]             5       0.006507\n",
       "(70588.235, 82352.941]             4       0.005206\n",
       "(82352.941, 94117.647]             1       0.001301\n",
       "(94117.647, 105882.353]            6       0.007808\n",
       "(105882.353, 117647.059]           0       0.000000\n",
       "(117647.059, 129411.765]           1       0.001301\n",
       "(129411.765, 141176.471]           0       0.000000\n",
       "(141176.471, 152941.176]           0       0.000000\n",
       "(152941.176, 164705.882]           0       0.000000\n",
       "(164705.882, 176470.588]           0       0.000000\n",
       "(176470.588, 188235.294]           0       0.000000\n",
       "(188235.294, 200000.0]             3       0.003904"
      ]
     },
     "execution_count": 93,
     "metadata": {},
     "output_type": "execute_result"
    }
   ],
   "source": [
    "dist_freq_classes_personalizadas = pd.DataFrame(\n",
    "    {\n",
    "        'Frequência': frequencia,\n",
    "        'Percentual(%)': percentual\n",
    "    }\n",
    ")\n",
    "\n",
    "dist_freq_classes_personalizadas"
   ]
  },
  {
   "cell_type": "markdown",
   "metadata": {
    "colab_type": "text",
    "id": "Js9iLwNkjQME"
   },
   "source": [
    "## <font color=green>2.4 Histograma</font>\n",
    "***\n",
    "\n",
    "O <b>HISTOGRAMA</b> é a representação gráfica de uma distribuição de frequências. É uma gráfico formado por um conjunto de retângulos colocados lado a lado, onde a área de cada retângulo é proporcional à frequência da classe que ele representa."
   ]
  },
  {
   "cell_type": "markdown",
   "metadata": {
    "colab_type": "text",
    "id": "VzZEXDKX3PUH"
   },
   "source": [
    "### Importando a biblioteca\n",
    "\n",
    "https://seaborn.pydata.org/"
   ]
  },
  {
   "cell_type": "code",
   "execution_count": 94,
   "metadata": {
    "colab": {},
    "colab_type": "code",
    "id": "PYRaBCnxjQME"
   },
   "outputs": [],
   "source": [
    "import seaborn as sns"
   ]
  },
  {
   "cell_type": "code",
   "execution_count": 98,
   "metadata": {
    "colab": {
     "base_uri": "https://localhost:8080/",
     "height": 429
    },
    "colab_type": "code",
    "id": "GAX3aCa6jQMG",
    "outputId": "e9da92bc-7d3e-4c46-e4e1-eeed3d853fef"
   },
   "outputs": [
    {
     "data": {
      "text/plain": [
       "<Axes: title={'center': 'Distribuição de Frequências - Altura'}, xlabel='Metros', ylabel='Count'>"
      ]
     },
     "execution_count": 98,
     "metadata": {},
     "output_type": "execute_result"
    },
    {
     "data": {
      "image/png": "[encoded data removed]",
      "text/plain": [
       "<Figure size 1200x600 with 1 Axes>"
      ]
     },
     "metadata": {},
     "output_type": "display_data"
    }
   ],
   "source": [
    "ax = sns.histplot(dados.Altura, kde = False)\n",
    "\n",
    "ax.figure.set_size_inches(12, 6)\n",
    "ax.set_title('Distribuição de Frequências - Altura', fontsize=18)\n",
    "ax.set_xlabel('Metros', fontsize=14)\n",
    "ax"
   ]
  },
  {
   "cell_type": "code",
   "execution_count": 96,
   "metadata": {
    "colab": {
     "base_uri": "https://localhost:8080/",
     "height": 429
    },
    "colab_type": "code",
    "id": "wiQPnuMojQMJ",
    "outputId": "5deacde5-bca6-49cd-d054-02e250708859"
   },
   "outputs": [
    {
     "data": {
      "image/png": "[encoded data removed]",
      "text/plain": [
       "<Figure size 1200x600 with 1 Axes>"
      ]
     },
     "metadata": {},
     "output_type": "display_data"
    }
   ],
   "source": [
    "ax = sns.histplot(dados['Altura'], kde=True)\n",
    "\n",
    "ax.figure.set_size_inches(12,6)\n",
    "ax.set_title('Distribuição de Frequências - Altura - KDE', fontsize=18)\n",
    "ax.set_xlabel('Metros', fontsize=14)\n",
    "ax;"
   ]
  },
  {
   "cell_type": "code",
   "execution_count": 101,
   "metadata": {
    "colab": {
     "base_uri": "https://localhost:8080/",
     "height": 392
    },
    "colab_type": "code",
    "id": "3fySBW7qjQMK",
    "outputId": "43604d3b-3b8a-42e9-eb74-5dd1eab2a00b"
   },
   "outputs": [
    {
     "data": {
      "text/plain": [
       "<Axes: >"
      ]
     },
     "execution_count": 101,
     "metadata": {},
     "output_type": "execute_result"
    },
    {
     "data": {
      "image/png": "[encoded data removed]",
      "text/plain": [
       "<Figure size 1200x600 with 1 Axes>"
      ]
     },
     "metadata": {},
     "output_type": "display_data"
    }
   ],
   "source": [
    "dados['Altura'].hist(bins=50, figsize=(12,6))"
   ]
  },
  {
   "cell_type": "code",
   "execution_count": 102,
   "metadata": {
    "colab": {
     "base_uri": "https://localhost:8080/",
     "height": 204
    },
    "colab_type": "code",
    "id": "0HcLhLYtjQMM",
    "outputId": "45a291b3-4b7a-4ea8-c135-a873ad231c02"
   },
   "outputs": [
    {
     "data": {
      "text/html": [
       "<div>\n",
       "<style scoped>\n",
       "    .dataframe tbody tr th:only-of-type {\n",
       "        vertical-align: middle;\n",
       "    }\n",
       "\n",
       "    .dataframe tbody tr th {\n",
       "        vertical-align: top;\n",
       "    }\n",
       "\n",
       "    .dataframe thead th {\n",
       "        text-align: right;\n",
       "    }\n",
       "</style>\n",
       "<table border=\"1\" class=\"dataframe\">\n",
       "  <thead>\n",
       "    <tr style=\"text-align: right;\">\n",
       "      <th></th>\n",
       "      <th>Frequência</th>\n",
       "      <th>Porcentagem (%)</th>\n",
       "    </tr>\n",
       "    <tr>\n",
       "      <th>Renda</th>\n",
       "      <th></th>\n",
       "      <th></th>\n",
       "    </tr>\n",
       "  </thead>\n",
       "  <tbody>\n",
       "    <tr>\n",
       "      <th>E</th>\n",
       "      <td>49755</td>\n",
       "      <td>64.751432</td>\n",
       "    </tr>\n",
       "    <tr>\n",
       "      <th>D</th>\n",
       "      <td>16700</td>\n",
       "      <td>21.733472</td>\n",
       "    </tr>\n",
       "    <tr>\n",
       "      <th>C</th>\n",
       "      <td>7599</td>\n",
       "      <td>9.889381</td>\n",
       "    </tr>\n",
       "    <tr>\n",
       "      <th>B</th>\n",
       "      <td>2178</td>\n",
       "      <td>2.834461</td>\n",
       "    </tr>\n",
       "    <tr>\n",
       "      <th>A</th>\n",
       "      <td>608</td>\n",
       "      <td>0.791255</td>\n",
       "    </tr>\n",
       "  </tbody>\n",
       "</table>\n",
       "</div>"
      ],
      "text/plain": [
       "       Frequência  Porcentagem (%)\n",
       "Renda                             \n",
       "E           49755        64.751432\n",
       "D           16700        21.733472\n",
       "C            7599         9.889381\n",
       "B            2178         2.834461\n",
       "A             608         0.791255"
      ]
     },
     "execution_count": 102,
     "metadata": {},
     "output_type": "execute_result"
    }
   ],
   "source": [
    "dist_freq_quantitativas"
   ]
  },
  {
   "cell_type": "code",
   "execution_count": 113,
   "metadata": {
    "colab": {
     "base_uri": "https://localhost:8080/",
     "height": 389
    },
    "colab_type": "code",
    "id": "IQYnbxoS-kjQ",
    "outputId": "fddf3891-eea9-4097-ae5a-5fb60e28b159"
   },
   "outputs": [
    {
     "data": {
      "image/png": "[encoded data removed]",
      "text/plain": [
       "<Figure size 1200x400 with 1 Axes>"
      ]
     },
     "metadata": {},
     "output_type": "display_data"
    }
   ],
   "source": [
    "dist_freq_quantitativas['Frequência'].plot.bar(width=1, color='blue', alpha=0.6, figsize=(12,4));"
   ]
  },
  {
   "cell_type": "markdown",
   "metadata": {
    "colab_type": "text",
    "id": "uIb17Es3jQMP"
   },
   "source": [
    "# <font color=green>3 MEDIDAS DE TENDÊNCIA CENTRAL</font>\n",
    "***"
   ]
  },
  {
   "cell_type": "markdown",
   "metadata": {
    "colab_type": "text",
    "id": "Wrya4suEX7H-"
   },
   "source": [
    "## DataFrame de exemplo"
   ]
  },
  {
   "cell_type": "code",
   "execution_count": null,
   "metadata": {
    "colab": {
     "base_uri": "https://localhost:8080/",
     "height": 266
    },
    "colab_type": "code",
    "id": "jj7a21flX7H_",
    "outputId": "772a6f47-ed2a-4d49-9db0-bd0944270891"
   },
   "outputs": [],
   "source": []
  },
  {
   "cell_type": "markdown",
   "metadata": {
    "colab_type": "text",
    "id": "kcHJFW-YjQMP"
   },
   "source": [
    "## <font color=green>3.1 Média aritmética</font>\n",
    "***\n",
    "\n",
    "É representada por $\\mu$ quando se refere à população e por $\\bar{X}$ quando se refere à amostra\n",
    "\n",
    "# $$\\mu = \\frac 1n\\sum_{i=1}^{n}X_i$$\n",
    "\n",
    "onde \n",
    "\n",
    "$n$ = número de observações (registros)\n",
    "\n",
    "$X_i$ = valor da i-ésima observação (registro)"
   ]
  },
  {
   "cell_type": "code",
   "execution_count": null,
   "metadata": {
    "colab": {
     "base_uri": "https://localhost:8080/",
     "height": 35
    },
    "colab_type": "code",
    "id": "QW4JPcBmX7IA",
    "outputId": "45810cfa-fba2-4bf3-b571-eddd9d8ebd09"
   },
   "outputs": [],
   "source": []
  },
  {
   "cell_type": "code",
   "execution_count": null,
   "metadata": {
    "colab": {
     "base_uri": "https://localhost:8080/",
     "height": 35
    },
    "colab_type": "code",
    "id": "LuT8WNy5X7IB",
    "outputId": "1fde4b44-b250-41d9-ff02-70c9a0e05aca"
   },
   "outputs": [],
   "source": []
  },
  {
   "cell_type": "code",
   "execution_count": null,
   "metadata": {
    "colab": {
     "base_uri": "https://localhost:8080/",
     "height": 35
    },
    "colab_type": "code",
    "id": "BRMZcmMEjQMQ",
    "outputId": "5f3334d9-0f5f-40e2-e2b7-191e0bc3a5d6"
   },
   "outputs": [],
   "source": []
  },
  {
   "cell_type": "code",
   "execution_count": null,
   "metadata": {
    "colab": {
     "base_uri": "https://localhost:8080/",
     "height": 89
    },
    "colab_type": "code",
    "id": "CGgJbsK0HBQc",
    "outputId": "35b8a334-5f7d-4f17-ec85-2e10ec6ae5ab"
   },
   "outputs": [],
   "source": []
  },
  {
   "cell_type": "markdown",
   "metadata": {
    "colab_type": "text",
    "id": "9geu3UcKjQMS"
   },
   "source": [
    "## <font color=green>3.2 Mediana</font>\n",
    "***\n",
    "\n",
    "Para obtermos a mediana de uma conjunto de dados devemos proceder da seguinte maneira:\n",
    "1. Ordenar o conjunto de dados;\n",
    "2. Identificar o número de observações (registros) do conjunto de dados ($n$);\n",
    "3. Identicar o elemento mediano:\n",
    "\n",
    "> Quando $n$ for ímpar, a posição do elemento mediano será obtida da seguinte forma:\n",
    "\n",
    "\n",
    "# $$Elemento_{Md} = \\frac{n+1}2$$\n",
    "\n",
    "> Quando $n$ for par, a posição do elemento mediano será obtida da seguinte forma:\n",
    "\n",
    "\n",
    "# $$Elemento_{Md} = \\frac{n}2$$\n",
    "\n",
    "4. Obter a mediana:\n",
    "\n",
    "> Quando $n$ for ímpar:\n",
    "\n",
    "\n",
    "# $$Md = X_{Elemento_{Md}}$$\n",
    "\n",
    "> Quando $n$ for par:\n",
    "\n",
    "\n",
    "# $$Md = \\frac{X_{Elemento_{Md}} + X_{Elemento_{Md}+1}}2$$\n",
    "***"
   ]
  },
  {
   "cell_type": "markdown",
   "metadata": {
    "colab_type": "text",
    "id": "e0IuYdJFjQMT"
   },
   "source": [
    "### Exemplo 1 - n ímpar\n",
    "\n",
    "<img src='https://caelum-online-public.s3.amazonaws.com/1177-estatistica-parte1/01/img002.png' width='40%' style=\"float:left\">"
   ]
  },
  {
   "cell_type": "code",
   "execution_count": null,
   "metadata": {
    "colab": {
     "base_uri": "https://localhost:8080/",
     "height": 161
    },
    "colab_type": "code",
    "id": "3dXjdRFlX7IH",
    "outputId": "d032eb05-bd06-4c1f-817d-f19abedb42bc"
   },
   "outputs": [],
   "source": []
  },
  {
   "cell_type": "code",
   "execution_count": null,
   "metadata": {
    "colab": {
     "base_uri": "https://localhost:8080/",
     "height": 161
    },
    "colab_type": "code",
    "id": "cU91DJ-yjQMV",
    "outputId": "928ea4b6-51e4-433e-9140-412596b3b42a"
   },
   "outputs": [],
   "source": []
  },
  {
   "cell_type": "code",
   "execution_count": null,
   "metadata": {
    "colab": {
     "base_uri": "https://localhost:8080/",
     "height": 266
    },
    "colab_type": "code",
    "id": "z9bOnYKf1NOd",
    "outputId": "a1d69cc0-145e-4ec9-9504-32b220cf4e5c"
   },
   "outputs": [],
   "source": []
  },
  {
   "cell_type": "code",
   "execution_count": null,
   "metadata": {
    "colab": {
     "base_uri": "https://localhost:8080/",
     "height": 35
    },
    "colab_type": "code",
    "id": "u3nfPEFjjQMW",
    "outputId": "a683f234-d732-4dc0-9e3e-eac66a6f904d"
   },
   "outputs": [],
   "source": []
  },
  {
   "cell_type": "code",
   "execution_count": null,
   "metadata": {
    "colab": {
     "base_uri": "https://localhost:8080/",
     "height": 35
    },
    "colab_type": "code",
    "id": "trC12MHxjQMY",
    "outputId": "917c6720-daa2-45be-a72d-3e0d63c67fd0"
   },
   "outputs": [],
   "source": []
  },
  {
   "cell_type": "code",
   "execution_count": null,
   "metadata": {
    "colab": {
     "base_uri": "https://localhost:8080/",
     "height": 71
    },
    "colab_type": "code",
    "id": "NKccffcLjQMZ",
    "outputId": "46c1c33a-100b-4aca-e876-f3589b699b48"
   },
   "outputs": [],
   "source": []
  },
  {
   "cell_type": "code",
   "execution_count": null,
   "metadata": {
    "colab": {
     "base_uri": "https://localhost:8080/",
     "height": 53
    },
    "colab_type": "code",
    "id": "ody5mfXLjQMb",
    "outputId": "d43b24b8-1d80-4780-a059-720cdc073353"
   },
   "outputs": [],
   "source": []
  },
  {
   "cell_type": "markdown",
   "metadata": {
    "colab_type": "text",
    "id": "hQHyjfLkjQMe"
   },
   "source": [
    "### Exemplo 2 - n par\n",
    "\n",
    "<img src='https://caelum-online-public.s3.amazonaws.com/1177-estatistica-parte1/01/img003.png' width='50%' style=\"float:left\">"
   ]
  },
  {
   "cell_type": "code",
   "execution_count": null,
   "metadata": {
    "colab": {
     "base_uri": "https://localhost:8080/",
     "height": 143
    },
    "colab_type": "code",
    "id": "Jkx1WZenjQMe",
    "outputId": "2482f6a4-b2c1-4751-865c-827ac57bba01"
   },
   "outputs": [],
   "source": []
  },
  {
   "cell_type": "code",
   "execution_count": null,
   "metadata": {
    "colab": {
     "base_uri": "https://localhost:8080/",
     "height": 143
    },
    "colab_type": "code",
    "id": "D1LUpvZkYsHq",
    "outputId": "d23d2d1c-bf17-4273-c441-092e04ec1ea8"
   },
   "outputs": [],
   "source": []
  },
  {
   "cell_type": "code",
   "execution_count": null,
   "metadata": {
    "colab": {
     "base_uri": "https://localhost:8080/",
     "height": 235
    },
    "colab_type": "code",
    "id": "PuiScCf0-vh9",
    "outputId": "569288f3-b67d-4932-91cb-8c66685163c6"
   },
   "outputs": [],
   "source": []
  },
  {
   "cell_type": "code",
   "execution_count": null,
   "metadata": {
    "colab": {
     "base_uri": "https://localhost:8080/",
     "height": 35
    },
    "colab_type": "code",
    "id": "6wB1UztBjQMf",
    "outputId": "cbb15019-56a3-4c87-8b77-6e04371c3182"
   },
   "outputs": [],
   "source": []
  },
  {
   "cell_type": "code",
   "execution_count": null,
   "metadata": {
    "colab": {
     "base_uri": "https://localhost:8080/",
     "height": 35
    },
    "colab_type": "code",
    "id": "tEBVXl7CjQMh",
    "outputId": "499b28c7-6de7-40f4-cdd9-5fef5c5c084a"
   },
   "outputs": [],
   "source": []
  },
  {
   "cell_type": "code",
   "execution_count": null,
   "metadata": {
    "colab": {
     "base_uri": "https://localhost:8080/",
     "height": 35
    },
    "colab_type": "code",
    "id": "N-jSUjZSjQMi",
    "outputId": "1c265766-278c-4615-aec9-5c1f53cb2a25"
   },
   "outputs": [],
   "source": []
  },
  {
   "cell_type": "code",
   "execution_count": null,
   "metadata": {
    "colab": {
     "base_uri": "https://localhost:8080/",
     "height": 53
    },
    "colab_type": "code",
    "id": "IevBBtrRjQMj",
    "outputId": "6f299f8c-f0c1-4e44-9a0f-cd72834145ba"
   },
   "outputs": [],
   "source": []
  },
  {
   "cell_type": "markdown",
   "metadata": {
    "colab_type": "text",
    "id": "nK27TxrkjQMl"
   },
   "source": [
    "### Obtendo a mediana em nosso dataset"
   ]
  },
  {
   "cell_type": "code",
   "execution_count": null,
   "metadata": {
    "colab": {
     "base_uri": "https://localhost:8080/",
     "height": 35
    },
    "colab_type": "code",
    "id": "dJznpnjUjQMl",
    "outputId": "f4728447-b763-4116-9076-9ac9c4d19d75"
   },
   "outputs": [],
   "source": []
  },
  {
   "cell_type": "code",
   "execution_count": null,
   "metadata": {
    "colab": {
     "base_uri": "https://localhost:8080/",
     "height": 35
    },
    "colab_type": "code",
    "id": "W4a5PVYdjQMm",
    "outputId": "3e8a9233-4eb6-4684-9f96-ce79e53ffa7a"
   },
   "outputs": [],
   "source": []
  },
  {
   "cell_type": "markdown",
   "metadata": {
    "colab_type": "text",
    "id": "CmCu6BXQjQMo"
   },
   "source": [
    "## <font color=green>3.3 Moda</font>\n",
    "***\n",
    "\n",
    "Pode-se definir a moda como sendo o valor mais frequente de um conjunto de dados. A moda é bastante utilizada para dados qualitativos."
   ]
  },
  {
   "cell_type": "code",
   "execution_count": null,
   "metadata": {
    "colab": {
     "base_uri": "https://localhost:8080/",
     "height": 266
    },
    "colab_type": "code",
    "id": "BHibMzw8X7Id",
    "outputId": "6b9375f3-1c22-4866-a40b-c28be3a01047"
   },
   "outputs": [],
   "source": []
  },
  {
   "cell_type": "code",
   "execution_count": null,
   "metadata": {
    "colab": {
     "base_uri": "https://localhost:8080/",
     "height": 80
    },
    "colab_type": "code",
    "id": "xICDpQguX7Ik",
    "outputId": "7863773e-e0d3-4fa4-d565-deb63cf0e82b"
   },
   "outputs": [],
   "source": []
  },
  {
   "cell_type": "code",
   "execution_count": null,
   "metadata": {
    "colab": {
     "base_uri": "https://localhost:8080/",
     "height": 197
    },
    "colab_type": "code",
    "id": "x9lIRFESX7Il",
    "outputId": "44945487-3723-422d-e720-57fd216be8e2"
   },
   "outputs": [],
   "source": []
  },
  {
   "cell_type": "code",
   "execution_count": null,
   "metadata": {
    "colab": {
     "base_uri": "https://localhost:8080/",
     "height": 71
    },
    "colab_type": "code",
    "id": "yUP6QFuiX7Io",
    "outputId": "4d51e179-bf46-4e35-dd06-f772e2fcab39"
   },
   "outputs": [],
   "source": []
  },
  {
   "cell_type": "markdown",
   "metadata": {
    "colab_type": "text",
    "id": "YwhBwz-JjQMr"
   },
   "source": [
    "### Obtendo a moda em nosso dataset"
   ]
  },
  {
   "cell_type": "code",
   "execution_count": null,
   "metadata": {
    "colab": {
     "base_uri": "https://localhost:8080/",
     "height": 53
    },
    "colab_type": "code",
    "id": "mC8vvYk-jQMr",
    "outputId": "bb3e196d-2447-4596-917f-5bdf34067dd9"
   },
   "outputs": [],
   "source": []
  },
  {
   "cell_type": "code",
   "execution_count": null,
   "metadata": {
    "colab": {
     "base_uri": "https://localhost:8080/",
     "height": 197
    },
    "colab_type": "code",
    "id": "Sdosy_vSX7Iw",
    "outputId": "949a3b5a-b978-40ab-eed0-872fb425d0f4"
   },
   "outputs": [],
   "source": []
  },
  {
   "cell_type": "markdown",
   "metadata": {
    "colab_type": "text",
    "id": "_-0gjQWFjQMu"
   },
   "source": [
    "## <font color=green>3.4 Relação entre média, mediana e moda</font>\n",
    "***"
   ]
  },
  {
   "cell_type": "markdown",
   "metadata": {
    "colab_type": "text",
    "id": "0S7pa_jLjQMu"
   },
   "source": [
    "<img src='https://caelum-online-public.s3.amazonaws.com/1177-estatistica-parte1/01/img004.png' width='80%'>"
   ]
  },
  {
   "cell_type": "markdown",
   "metadata": {
    "colab_type": "text",
    "id": "b7ZchyFsjQMu"
   },
   "source": [
    "### Avaliando a variável RENDA"
   ]
  },
  {
   "cell_type": "code",
   "execution_count": null,
   "metadata": {
    "colab": {
     "base_uri": "https://localhost:8080/",
     "height": 406
    },
    "colab_type": "code",
    "id": "d8WQQ0PdjQMv",
    "outputId": "da495910-b7ab-4d66-f187-a8d6ff6b00f0"
   },
   "outputs": [],
   "source": []
  },
  {
   "cell_type": "code",
   "execution_count": null,
   "metadata": {
    "colab": {
     "base_uri": "https://localhost:8080/",
     "height": 35
    },
    "colab_type": "code",
    "id": "krws6f_SjQMw",
    "outputId": "22ef1fae-c11c-468c-fa4a-f19fbf932411"
   },
   "outputs": [],
   "source": []
  },
  {
   "cell_type": "code",
   "execution_count": null,
   "metadata": {
    "colab": {
     "base_uri": "https://localhost:8080/",
     "height": 35
    },
    "colab_type": "code",
    "id": "_Y7KpB25jQMx",
    "outputId": "66d5c523-420c-47a3-a5d7-964d29545c02"
   },
   "outputs": [],
   "source": []
  },
  {
   "cell_type": "code",
   "execution_count": null,
   "metadata": {
    "colab": {
     "base_uri": "https://localhost:8080/",
     "height": 35
    },
    "colab_type": "code",
    "id": "gQ0e56VajQMy",
    "outputId": "796f4faa-7171-4322-89e9-fd62b950a463"
   },
   "outputs": [],
   "source": []
  },
  {
   "cell_type": "code",
   "execution_count": null,
   "metadata": {
    "colab": {
     "base_uri": "https://localhost:8080/",
     "height": 35
    },
    "colab_type": "code",
    "id": "nX6lnCBujQM0",
    "outputId": "d4bd80b4-9eee-4ad2-f41d-29c12362580e"
   },
   "outputs": [],
   "source": []
  },
  {
   "cell_type": "markdown",
   "metadata": {
    "colab_type": "text",
    "id": "FnLQAxSijQM1"
   },
   "source": [
    "***"
   ]
  },
  {
   "cell_type": "markdown",
   "metadata": {
    "colab_type": "text",
    "id": "WazchssNjQM1"
   },
   "source": [
    "### Avaliando a variável ALTURA"
   ]
  },
  {
   "cell_type": "code",
   "execution_count": null,
   "metadata": {
    "colab": {
     "base_uri": "https://localhost:8080/",
     "height": 406
    },
    "colab_type": "code",
    "id": "41uJsCk9jQM2",
    "outputId": "3f7aec0c-e6b0-4629-d235-8061ce3b25c4"
   },
   "outputs": [],
   "source": []
  },
  {
   "cell_type": "code",
   "execution_count": null,
   "metadata": {
    "colab": {
     "base_uri": "https://localhost:8080/",
     "height": 197
    },
    "colab_type": "code",
    "id": "EkgerGuXjQM3",
    "outputId": "2966d112-76a5-4286-923c-bb01f02c6acf"
   },
   "outputs": [],
   "source": []
  },
  {
   "cell_type": "code",
   "execution_count": null,
   "metadata": {
    "colab": {
     "base_uri": "https://localhost:8080/",
     "height": 35
    },
    "colab_type": "code",
    "id": "Jj6MFUXbjQM4",
    "outputId": "ef153a71-fa7b-4165-b23c-136157955825"
   },
   "outputs": [],
   "source": []
  },
  {
   "cell_type": "code",
   "execution_count": null,
   "metadata": {
    "colab": {
     "base_uri": "https://localhost:8080/",
     "height": 35
    },
    "colab_type": "code",
    "id": "84X-3AzvjQM5",
    "outputId": "c2b94040-6ef1-46d1-cac1-58c8f6ba0d53"
   },
   "outputs": [],
   "source": []
  },
  {
   "cell_type": "markdown",
   "metadata": {
    "colab_type": "text",
    "id": "PJIMB8i8jQM6"
   },
   "source": [
    "***"
   ]
  },
  {
   "cell_type": "markdown",
   "metadata": {
    "colab_type": "text",
    "id": "eS4I2H7jjQM7"
   },
   "source": [
    "### Avaliando a variável ANOS DE ESTUDO"
   ]
  },
  {
   "cell_type": "code",
   "execution_count": null,
   "metadata": {
    "colab": {
     "base_uri": "https://localhost:8080/",
     "height": 407
    },
    "colab_type": "code",
    "id": "NPCcjXqPjQM8",
    "outputId": "e811449e-866e-4986-a20b-8f2d44ddb437"
   },
   "outputs": [],
   "source": []
  },
  {
   "cell_type": "code",
   "execution_count": null,
   "metadata": {
    "colab": {
     "base_uri": "https://localhost:8080/",
     "height": 35
    },
    "colab_type": "code",
    "id": "PjfvPYUajQM9",
    "outputId": "477cf5fc-d11a-4e6f-dc45-dade49eff315"
   },
   "outputs": [],
   "source": []
  },
  {
   "cell_type": "code",
   "execution_count": null,
   "metadata": {
    "colab": {
     "base_uri": "https://localhost:8080/",
     "height": 35
    },
    "colab_type": "code",
    "id": "VF_Bj8x2jQM-",
    "outputId": "70b0abb2-902e-4f80-b8c7-fe0f8c0e3140"
   },
   "outputs": [],
   "source": []
  },
  {
   "cell_type": "code",
   "execution_count": null,
   "metadata": {
    "colab": {
     "base_uri": "https://localhost:8080/",
     "height": 35
    },
    "colab_type": "code",
    "id": "ohqUZ5RsjQNA",
    "outputId": "286e2b23-ef56-453f-e92a-2c73887c1af4"
   },
   "outputs": [],
   "source": []
  },
  {
   "cell_type": "code",
   "execution_count": null,
   "metadata": {
    "colab": {
     "base_uri": "https://localhost:8080/",
     "height": 35
    },
    "colab_type": "code",
    "id": "AwM8UvApjQNC",
    "outputId": "91f0c84b-13ff-43e1-cac0-46ce0527ddec"
   },
   "outputs": [],
   "source": []
  },
  {
   "cell_type": "markdown",
   "metadata": {
    "colab_type": "text",
    "id": "vcaIo45UjQND"
   },
   "source": [
    "# <font color=green>4 MEDIDAS SEPARATRIZES</font>\n",
    "***"
   ]
  },
  {
   "cell_type": "markdown",
   "metadata": {
    "colab_type": "text",
    "id": "f4XrApNxjQNE"
   },
   "source": [
    "## <font color=green>4.1 Quartis, decis e percentis</font>\n",
    "***\n",
    "\n",
    "Há uma série de medidas de posição semelhantes na sua concepção à mediana, embora não sejam medidas de tendência central. Como se sabe, a mediana divide a distribuição em duas partes iguais quanto ao número de elementos de cada parte. Já os quartis permitem dividir a distribuição em quatro partes iguais quanto ao número de elementos de cada uma; os decis em dez partes e os centis em cem partes iguais."
   ]
  },
  {
   "cell_type": "code",
   "execution_count": null,
   "metadata": {
    "colab": {
     "base_uri": "https://localhost:8080/",
     "height": 89
    },
    "colab_type": "code",
    "id": "VmbdUO-ujQNE",
    "outputId": "d7a091db-3901-45ae-95c9-2d1a6b840cb6"
   },
   "outputs": [],
   "source": []
  },
  {
   "cell_type": "code",
   "execution_count": null,
   "metadata": {
    "colab": {
     "base_uri": "https://localhost:8080/",
     "height": 35
    },
    "colab_type": "code",
    "id": "gyiJDAMbjQNF",
    "outputId": "565e6c38-11b6-4030-c05e-c1e74f69b2b9"
   },
   "outputs": [],
   "source": []
  },
  {
   "cell_type": "code",
   "execution_count": null,
   "metadata": {
    "colab": {
     "base_uri": "https://localhost:8080/",
     "height": 197
    },
    "colab_type": "code",
    "id": "EpRKboV5jQNG",
    "outputId": "dfe7892e-35d2-4b99-a635-68a04967b84f"
   },
   "outputs": [],
   "source": []
  },
  {
   "cell_type": "code",
   "execution_count": null,
   "metadata": {
    "colab": {},
    "colab_type": "code",
    "id": "LQW--GapjQNI",
    "scrolled": true
   },
   "outputs": [],
   "source": []
  },
  {
   "cell_type": "code",
   "execution_count": null,
   "metadata": {
    "colab": {
     "base_uri": "https://localhost:8080/",
     "height": 449
    },
    "colab_type": "code",
    "id": "pO2HCo1WUE5F",
    "outputId": "1d51695f-6cf2-4a2e-dae1-738ee842e617"
   },
   "outputs": [],
   "source": []
  },
  {
   "cell_type": "code",
   "execution_count": null,
   "metadata": {
    "colab": {
     "base_uri": "https://localhost:8080/",
     "height": 197
    },
    "colab_type": "code",
    "id": "GGHVrQA7jQNI",
    "outputId": "39bcdcfa-d7e3-40bc-f1d1-9e46a2237912"
   },
   "outputs": [],
   "source": []
  },
  {
   "cell_type": "markdown",
   "metadata": {
    "colab_type": "text",
    "id": "6gIeZO_CjQNJ"
   },
   "source": [
    "## <font color=green>4.2 Box-plot</font>\n",
    "***\n",
    "\n",
    "O box plot dá uma idéia da posição, dispersão, assimetria, caudas e dados discrepantes (outliers). A posição central é dada pela mediana e a dispersão por $IIQ$. As posições relativas de $Q1$, $Mediana$ e $Q3$ dão uma noção da simetria da distribuição. Os comprimentos das cauda são dados pelas linhas que vão do retângulo aos valores remotos e pelos valores atípicos."
   ]
  },
  {
   "cell_type": "markdown",
   "metadata": {
    "colab_type": "text",
    "id": "VeiTE_gvjQNK"
   },
   "source": [
    "<img src='https://caelum-online-public.s3.amazonaws.com/1177-estatistica-parte1/01/img005.png' width='65%'>"
   ]
  },
  {
   "cell_type": "code",
   "execution_count": null,
   "metadata": {
    "colab": {
     "base_uri": "https://localhost:8080/",
     "height": 320
    },
    "colab_type": "code",
    "id": "pBY2EWkzjQNK",
    "outputId": "eaef866d-66ed-4f6e-b0de-3e9a8bfa4b50"
   },
   "outputs": [],
   "source": []
  },
  {
   "cell_type": "code",
   "execution_count": null,
   "metadata": {
    "colab": {
     "base_uri": "https://localhost:8080/",
     "height": 320
    },
    "colab_type": "code",
    "id": "AEhX7-ggsuiY",
    "outputId": "b484ac10-4c32-42bd-db4c-053898fa034c"
   },
   "outputs": [],
   "source": []
  },
  {
   "cell_type": "code",
   "execution_count": null,
   "metadata": {
    "colab": {
     "base_uri": "https://localhost:8080/",
     "height": 320
    },
    "colab_type": "code",
    "id": "2ZPrRov1suSF",
    "outputId": "6b176c56-cee6-4570-f288-5adfa84bc022"
   },
   "outputs": [],
   "source": []
  },
  {
   "cell_type": "code",
   "execution_count": null,
   "metadata": {
    "colab": {
     "base_uri": "https://localhost:8080/",
     "height": 320
    },
    "colab_type": "code",
    "id": "CSwlKUrrsuFi",
    "outputId": "895356d3-f6ab-4659-f821-f1bee28ae21a"
   },
   "outputs": [],
   "source": []
  },
  {
   "cell_type": "code",
   "execution_count": null,
   "metadata": {
    "colab": {
     "base_uri": "https://localhost:8080/",
     "height": 320
    },
    "colab_type": "code",
    "id": "IDrzBcJ_jQNL",
    "outputId": "af4f0ff0-8db8-4550-f230-3508561dd8a6"
   },
   "outputs": [],
   "source": []
  },
  {
   "cell_type": "code",
   "execution_count": null,
   "metadata": {
    "colab": {
     "base_uri": "https://localhost:8080/",
     "height": 320
    },
    "colab_type": "code",
    "id": "V3I-2KsbjQNM",
    "outputId": "4ba82684-e7cf-4ca8-eec3-21df2008f5ad"
   },
   "outputs": [],
   "source": []
  },
  {
   "cell_type": "markdown",
   "metadata": {
    "colab_type": "text",
    "id": "amloMZwVjQNN"
   },
   "source": [
    "<img src='https://caelum-online-public.s3.amazonaws.com/1177-estatistica-parte1/01/img006.png' width='80%'>"
   ]
  },
  {
   "cell_type": "markdown",
   "metadata": {
    "colab_type": "text",
    "id": "aJ6v_NI9jQNN"
   },
   "source": [
    "# <font color=green>5 MEDIDAS DE DISPERSÃO</font>\n",
    "***\n",
    "\n",
    "Embora as medidas de posição forneçam uma sumarização bastante importante dos dados, elas podem não ser suficientes para caracterizar conjuntos distintos, especialmente quando as observações de determinada distribuição apresentarem dados muito dispersos."
   ]
  },
  {
   "cell_type": "markdown",
   "metadata": {
    "colab_type": "text",
    "id": "D6xVxAQ7jQNO"
   },
   "source": [
    "## <font color=green>5.1 Desvio médio absoluto</font>\n",
    "***\n",
    "\n",
    "\n",
    "# $$DM = \\frac 1n\\sum_{i=1}^{n}|X_i-\\bar{X}|$$\n"
   ]
  },
  {
   "cell_type": "code",
   "execution_count": null,
   "metadata": {
    "colab": {
     "base_uri": "https://localhost:8080/",
     "height": 266
    },
    "colab_type": "code",
    "id": "0sL31blV7nz3",
    "outputId": "5f44f5d3-88b4-40e2-810c-7e1e1a9bace0"
   },
   "outputs": [],
   "source": []
  },
  {
   "cell_type": "code",
   "execution_count": null,
   "metadata": {
    "colab": {
     "base_uri": "https://localhost:8080/",
     "height": 266
    },
    "colab_type": "code",
    "id": "f3pAri4G7nc4",
    "outputId": "f6800dd6-a0dd-47ae-d6d1-b7feca522389"
   },
   "outputs": [],
   "source": []
  },
  {
   "cell_type": "code",
   "execution_count": null,
   "metadata": {
    "colab": {
     "base_uri": "https://localhost:8080/",
     "height": 35
    },
    "colab_type": "code",
    "id": "8_Q2tOTmjQNO",
    "outputId": "5c0d8214-aa63-4d0f-cfb1-f61bc171195f"
   },
   "outputs": [],
   "source": []
  },
  {
   "cell_type": "code",
   "execution_count": null,
   "metadata": {
    "colab": {
     "base_uri": "https://localhost:8080/",
     "height": 266
    },
    "colab_type": "code",
    "id": "RWo0AhBEjQNP",
    "outputId": "19437165-543f-4cb7-885c-956eb5e31090"
   },
   "outputs": [],
   "source": []
  },
  {
   "cell_type": "code",
   "execution_count": null,
   "metadata": {
    "colab": {
     "base_uri": "https://localhost:8080/",
     "height": 35
    },
    "colab_type": "code",
    "id": "OiWDTw0ljQNQ",
    "outputId": "0123646d-ad0d-457e-cc5a-035bd6a843ec"
   },
   "outputs": [],
   "source": []
  },
  {
   "cell_type": "code",
   "execution_count": null,
   "metadata": {
    "colab": {
     "base_uri": "https://localhost:8080/",
     "height": 266
    },
    "colab_type": "code",
    "id": "qQbjktz5jQNR",
    "outputId": "d3649964-e345-457c-859c-e179e57e1468"
   },
   "outputs": [],
   "source": []
  },
  {
   "cell_type": "code",
   "execution_count": null,
   "metadata": {
    "colab": {
     "base_uri": "https://localhost:8080/",
     "height": 375
    },
    "colab_type": "code",
    "id": "dtIDTt6djQNV",
    "outputId": "ee4b72f8-e0d6-4f04-e445-1178a190332c"
   },
   "outputs": [],
   "source": []
  },
  {
   "cell_type": "code",
   "execution_count": null,
   "metadata": {
    "colab": {
     "base_uri": "https://localhost:8080/",
     "height": 35
    },
    "colab_type": "code",
    "id": "m4buiQWF01xt",
    "outputId": "e166623b-e7a4-44f6-ecb1-2cfc0bc43ab1"
   },
   "outputs": [],
   "source": []
  },
  {
   "cell_type": "code",
   "execution_count": null,
   "metadata": {
    "colab": {
     "base_uri": "https://localhost:8080/",
     "height": 35
    },
    "colab_type": "code",
    "id": "1PEJ_LUn01eV",
    "outputId": "ff37d20d-b3d1-408a-c300-79b81dafb398"
   },
   "outputs": [],
   "source": []
  },
  {
   "cell_type": "markdown",
   "metadata": {
    "colab_type": "text",
    "id": "jSKfnKwEjQNW"
   },
   "source": [
    "## <font color=green>5.2 Variância</font>\n",
    "***"
   ]
  },
  {
   "cell_type": "markdown",
   "metadata": {
    "colab_type": "text",
    "id": "tHD3yNqzjQNW"
   },
   "source": [
    "### Variância\n",
    "\n",
    "A variância é construída a partir das diferenças entre cada observação e a média dos dados, ou seja, o desvio em torno da média. No cálculo da variância, os desvios em torno da média são elevados ao quadrado."
   ]
  },
  {
   "cell_type": "markdown",
   "metadata": {
    "colab_type": "text",
    "id": "WrCn9hw0jQNX"
   },
   "source": [
    "### Variância populacional\n",
    "\n",
    "# $$\\sigma^2 = \\frac 1n\\sum_{i=1}^{n}(X_i-\\mu)^2$$"
   ]
  },
  {
   "cell_type": "markdown",
   "metadata": {
    "colab_type": "text",
    "id": "jV5mQT_djQNX"
   },
   "source": [
    "### Variância amostral\n",
    "\n",
    "# $$S^2 = \\frac 1{n-1}\\sum_{i=1}^{n}(X_i-\\bar{X})^2$$"
   ]
  },
  {
   "cell_type": "code",
   "execution_count": null,
   "metadata": {
    "colab": {
     "base_uri": "https://localhost:8080/",
     "height": 266
    },
    "colab_type": "code",
    "id": "4tlbCQeujQNZ",
    "outputId": "21e4a6b5-8a87-4338-8f94-b02ef2ea9e07"
   },
   "outputs": [],
   "source": []
  },
  {
   "cell_type": "code",
   "execution_count": null,
   "metadata": {
    "colab": {
     "base_uri": "https://localhost:8080/",
     "height": 35
    },
    "colab_type": "code",
    "id": "oCcAfoIOjQNa",
    "outputId": "e55249a4-6d91-4776-d89f-428f067a87ae"
   },
   "outputs": [],
   "source": []
  },
  {
   "cell_type": "code",
   "execution_count": null,
   "metadata": {
    "colab": {
     "base_uri": "https://localhost:8080/",
     "height": 35
    },
    "colab_type": "code",
    "id": "EyrfPHLtjQNb",
    "outputId": "a024839f-1c4a-4a91-b892-3966d7cc8f95"
   },
   "outputs": [],
   "source": []
  },
  {
   "cell_type": "markdown",
   "metadata": {
    "colab_type": "text",
    "id": "wQl_CsytjQNg"
   },
   "source": [
    "## <font color=green>5.3 Desvio padrão</font>\n",
    "***\n",
    "\n",
    "Uma das restrições da variância é o fato de fornecer medidas em quadrados das unidades originais - a variância de medidas de comprimento, por exemplo, é em unidades de área. Logo, o fato de as unidades serem diferentes dificulta a comparação da dispersão com as variáveis que a definem. Um modo de eliminar essa dificuldade é considerar sua raiz quadrada."
   ]
  },
  {
   "cell_type": "markdown",
   "metadata": {
    "colab_type": "text",
    "id": "X9w1Iqt3jQNg"
   },
   "source": [
    "### Desvio padrão populacional\n",
    "\n",
    "# $$\\sigma = \\sqrt{\\frac 1n\\sum_{i=1}^{n}(X_i-\\mu)^2} \\Longrightarrow \\sigma = \\sqrt{\\sigma^2}$$"
   ]
  },
  {
   "cell_type": "markdown",
   "metadata": {
    "colab_type": "text",
    "id": "D3J4MvMpjQNg"
   },
   "source": [
    "### Desvio padrão amostral\n",
    "\n",
    "# $$S = \\sqrt{\\frac 1{n-1}\\sum_{i=1}^{n}(X_i-\\bar{X})^2} \\Longrightarrow S = \\sqrt{S^2}$$"
   ]
  },
  {
   "cell_type": "code",
   "execution_count": null,
   "metadata": {
    "colab": {
     "base_uri": "https://localhost:8080/",
     "height": 35
    },
    "colab_type": "code",
    "id": "2di6iLFaSPda",
    "outputId": "d4b3d928-0ef9-4412-8b97-a16724770f84"
   },
   "outputs": [],
   "source": []
  },
  {
   "cell_type": "code",
   "execution_count": null,
   "metadata": {
    "colab": {
     "base_uri": "https://localhost:8080/",
     "height": 35
    },
    "colab_type": "code",
    "id": "BMTx9yKHSPON",
    "outputId": "2a045e01-b0a6-4c42-96e8-18708617687d"
   },
   "outputs": [],
   "source": []
  },
  {
   "cell_type": "code",
   "execution_count": null,
   "metadata": {
    "colab": {
     "base_uri": "https://localhost:8080/",
     "height": 266
    },
    "colab_type": "code",
    "id": "_PeQtqbdjQNh",
    "outputId": "dd38bbe1-9fbc-4be6-85a5-8e481520bf85"
   },
   "outputs": [],
   "source": []
  },
  {
   "cell_type": "code",
   "execution_count": null,
   "metadata": {
    "colab": {
     "base_uri": "https://localhost:8080/",
     "height": 107
    },
    "colab_type": "code",
    "id": "5LYOKy25jQNi",
    "outputId": "c263cc75-8407-4546-ef00-64a6abd9a6a7"
   },
   "outputs": [],
   "source": []
  },
  {
   "cell_type": "code",
   "execution_count": null,
   "metadata": {
    "colab": {
     "base_uri": "https://localhost:8080/",
     "height": 107
    },
    "colab_type": "code",
    "id": "FfcyfSkFjQNj",
    "outputId": "ccdf8bc6-4e1c-4845-b6b7-bb5ae85fe25f"
   },
   "outputs": [],
   "source": []
  },
  {
   "cell_type": "code",
   "execution_count": null,
   "metadata": {
    "colab": {
     "base_uri": "https://localhost:8080/",
     "height": 80
    },
    "colab_type": "code",
    "id": "G8vorygCjQNk",
    "outputId": "39af6a22-deed-47eb-eeee-17e48ccf9a7f"
   },
   "outputs": [],
   "source": []
  },
  {
   "cell_type": "code",
   "execution_count": null,
   "metadata": {
    "colab": {
     "base_uri": "https://localhost:8080/",
     "height": 107
    },
    "colab_type": "code",
    "id": "01op3BEvjQNl",
    "outputId": "5b427605-ac79-4071-8b6f-4eee089337a0"
   },
   "outputs": [],
   "source": []
  },
  {
   "cell_type": "code",
   "execution_count": null,
   "metadata": {
    "colab": {},
    "colab_type": "code",
    "id": "aiUvZluhUx-0"
   },
   "outputs": [],
   "source": []
  }
 ],
 "metadata": {
  "colab": {
   "name": "Curso_de_Estatística_Parte_1.ipynb",
   "provenance": [],
   "toc_visible": true,
   "version": "0.3.2"
  },
  "kernelspec": {
   "display_name": "Python 3",
   "language": "python",
   "name": "python3"
  },
  "language_info": {
   "codemirror_mode": {
    "name": "ipython",
    "version": 3
   },
   "file_extension": ".py",
   "mimetype": "text/x-python",
   "name": "python",
   "nbconvert_exporter": "python",
   "pygments_lexer": "ipython3",
   "version": "3.11.4"
  }
 },
 "nbformat": 4,
 "nbformat_minor": 1
}
